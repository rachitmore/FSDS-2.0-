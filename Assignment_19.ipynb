{
 "cells": [
  {
   "cell_type": "markdown",
   "id": "32bd5441",
   "metadata": {},
   "source": [
    "1. Make a class called Thing with no contents and print it. Then, create an object called example from this class and also print it. Are the printed values the same or different?\n",
    "\n",
    "2. Create a new class called Thing2 and add the value 'abc' to the letters class attribute. Letters should be printed.\n",
    "\n",
    "3. Make yet another class called, of course, Thing3. This time, assign the value 'xyz' to an instance (object) attribute called letters. Print letters. Do you need to make an object from the class to do this?\n",
    "\n",
    "4. Create an Element class with the instance attributes name, symbol, and number. Create a class object with the values 'Hydrogen,' 'H,' and 1.\n",
    "\n",
    "5. Make a dictionary with these keys and values: 'name': 'Hydrogen', 'symbol': 'H', 'number': 1. Then, create an object called hydrogen from class Element using this dictionary.\n",
    "\n",
    "6. For the Element class, define a method called dump() that prints the values of the object’s attributes (name, symbol, and number). Create the hydrogen object from this new definition and use dump() to print its attributes.\n",
    "\n",
    "7. Call print(hydrogen). In the definition of Element, change the name of method dump to __str__, create a new hydrogen object, and call print(hydrogen) again.\n",
    "\n",
    "8. Modify Element to make the attributes name, symbol, and number private. Define a getter property for each to return its value.\n",
    "\n",
    "9. Define three classes: Bear, Rabbit, and Octothorpe. For each, define only one method: eats(). This should return 'berries' (Bear), 'clover' (Rabbit), or 'campers' (Octothorpe). Create one object from each and print what it eats.\n",
    "\n",
    "10. Define these classes: Laser, Claw, and SmartPhone. Each has only one method: does(). This returns 'disintegrate' (Laser), 'crush' (Claw), or 'ring' (SmartPhone). Then, define the class Robot that has one instance (object) of each of these. Define a does() method for the Robot that prints what its component objects do.\n"
   ]
  },
  {
   "cell_type": "markdown",
   "id": "4e33dfcb",
   "metadata": {},
   "source": [
    "1. Make a class called Thing with no contents and print it. Then, create an object called example from this class and also print it. Are the printed values the same or different?\n"
   ]
  },
  {
   "cell_type": "code",
   "execution_count": 1,
   "id": "bbbee24b",
   "metadata": {},
   "outputs": [
    {
     "name": "stdout",
     "output_type": "stream",
     "text": [
      "<class '__main__.Thing'>\n",
      "<__main__.Thing object at 0x000001E8F6A88B20>\n",
      "There is change in Thing and example,here thing is class and example is object\n"
     ]
    }
   ],
   "source": [
    "class Thing:\n",
    "    pass\n",
    "print(Thing)\n",
    "example=Thing()\n",
    "print(example)\n",
    "print(\"There is change in Thing and example,here thing is class and example is object\")"
   ]
  },
  {
   "cell_type": "markdown",
   "id": "5266e969",
   "metadata": {},
   "source": [
    "2. Create a new class called Thing2 and add the value 'abc' to the letters class attribute. Letters should be printed."
   ]
  },
  {
   "cell_type": "code",
   "execution_count": 2,
   "id": "b49a698f",
   "metadata": {},
   "outputs": [
    {
     "name": "stdout",
     "output_type": "stream",
     "text": [
      "abc\n"
     ]
    }
   ],
   "source": [
    "class Thing2:\n",
    "    letters=\"abc\"\n",
    "print(Thing2.letters)\n",
    "    "
   ]
  },
  {
   "cell_type": "markdown",
   "id": "a5fc65bc",
   "metadata": {},
   "source": [
    "3. Make yet another class called, of course, Thing3. This time, assign the value 'xyz' to an instance (object) attribute called letters. Print letters. Do you need to make an object from the class to do this?\n"
   ]
  },
  {
   "cell_type": "code",
   "execution_count": 3,
   "id": "fc4562a7",
   "metadata": {},
   "outputs": [
    {
     "name": "stdout",
     "output_type": "stream",
     "text": [
      "xyz\n",
      "Yes This time I need to make an object from a class\n"
     ]
    }
   ],
   "source": [
    "class Thing3:\n",
    "    def __init__(self,letters):\n",
    "        self.letters=letters\n",
    "print(Thing3(\"xyz\").letters)#Thing3() is a object\n",
    "print(\"Yes This time I need to make an object from a class\")"
   ]
  },
  {
   "cell_type": "markdown",
   "id": "8daa5348",
   "metadata": {},
   "source": [
    "4. Create an Element class with the instance attributes name, symbol, and number. Create a class object with the values 'Hydrogen,' 'H,' and 1."
   ]
  },
  {
   "cell_type": "code",
   "execution_count": 4,
   "id": "d1498ad1",
   "metadata": {},
   "outputs": [],
   "source": [
    "class Element:\n",
    "    def __init__(self,name,symbol,number):\n",
    "        self.name=name\n",
    "        self.symbol=symbol\n",
    "        self.number=number\n",
    "\n",
    "Object=Element(\"Hydrogen\",\"H\",1)"
   ]
  },
  {
   "cell_type": "markdown",
   "id": "0e420096",
   "metadata": {},
   "source": [
    "5. Make a dictionary with these keys and values: 'name': 'Hydrogen', 'symbol': 'H', 'number': 1. Then, create an object called hydrogen from class Element using this dictionary.\n"
   ]
  },
  {
   "cell_type": "code",
   "execution_count": 5,
   "id": "590ef5e7",
   "metadata": {},
   "outputs": [],
   "source": [
    "E={'name': 'Hydrogen', 'symbol': 'H', 'number': 1}\n",
    "hydrogen=Element(**E)"
   ]
  },
  {
   "cell_type": "markdown",
   "id": "6d084f47",
   "metadata": {},
   "source": [
    "6. For the Element class, define a method called dump() that prints the values of the object’s attributes (name, symbol, and number). Create the hydrogen object from this new definition and use dump() to print its attributes."
   ]
  },
  {
   "cell_type": "code",
   "execution_count": 6,
   "id": "e08fa464",
   "metadata": {},
   "outputs": [
    {
     "name": "stdout",
     "output_type": "stream",
     "text": [
      "Hydrogen H 1\n"
     ]
    }
   ],
   "source": [
    "class Element:\n",
    "    def __init__(self,name,symbol,number):\n",
    "        self.name=name\n",
    "        self.symbol=symbol\n",
    "        self.number=number\n",
    "    def dump(self):\n",
    "        print(self.name,self.symbol,self.number)\n",
    "hydrogen=Element(**E)\n",
    "hydrogen.dump()"
   ]
  },
  {
   "cell_type": "markdown",
   "id": "a13ccb0c",
   "metadata": {},
   "source": [
    "7. Call print(hydrogen). In the definition of Element, change the name of method dump to __str__, create a new hydrogen object, and call print(hydrogen) again."
   ]
  },
  {
   "cell_type": "code",
   "execution_count": 7,
   "id": "a29863be",
   "metadata": {},
   "outputs": [
    {
     "name": "stdout",
     "output_type": "stream",
     "text": [
      "Hydrogen,H,1\n"
     ]
    }
   ],
   "source": [
    "class Element:\n",
    "    def __init__(self,name,symbol,number):\n",
    "        self.name=name\n",
    "        self.symbol=symbol\n",
    "        self.number=number\n",
    "    def __str__(self):\n",
    "        return f\"{self.name},{self.symbol},{self.number}\"\n",
    "hydrogen=Element(**E)\n",
    "print(hydrogen)"
   ]
  },
  {
   "cell_type": "markdown",
   "id": "6c7f154f",
   "metadata": {},
   "source": [
    "8. Modify Element to make the attributes name, symbol, and number private. Define a getter property for each to return its value."
   ]
  },
  {
   "cell_type": "code",
   "execution_count": 8,
   "id": "ff5123ba",
   "metadata": {},
   "outputs": [
    {
     "name": "stdout",
     "output_type": "stream",
     "text": [
      "Hydrogen\n",
      "H\n",
      "1\n"
     ]
    }
   ],
   "source": [
    "class Element:\n",
    "    def __init__(self,name,symbol,number):\n",
    "        self.__name=name\n",
    "        self.__symbol=symbol\n",
    "        self.__number=number\n",
    "    @property\n",
    "    def name_getter(self):\n",
    "        return self.__name\n",
    "    @property\n",
    "    def symbol_getter(self):\n",
    "        return self.__symbol\n",
    "    @property\n",
    "    def number_getter(self):\n",
    "        return self.__number\n",
    "Object=Element(\"Hydrogen\",\"H\",1)\n",
    "print(Object.name_getter)\n",
    "print(Object.symbol_getter)\n",
    "print(Object.number_getter)"
   ]
  },
  {
   "cell_type": "markdown",
   "id": "2cfb5dd6",
   "metadata": {},
   "source": [
    "9. Define three classes: Bear, Rabbit, and Octothorpe. For each, define only one method: eats(). This should return 'berries' (Bear), 'clover' (Rabbit), or 'campers' (Octothorpe). Create one object from each and print what it eats.\n"
   ]
  },
  {
   "cell_type": "code",
   "execution_count": 9,
   "id": "45964038",
   "metadata": {},
   "outputs": [
    {
     "name": "stdout",
     "output_type": "stream",
     "text": [
      "Bear eats berries \n",
      "Rabbit eats clover\n",
      "Octothorpe eats campers\n"
     ]
    }
   ],
   "source": [
    "class Bear:\n",
    "    def eats():\n",
    "        return \"berries\"\n",
    "class Rabbit:\n",
    "    def eats():\n",
    "        return \"clover\"\n",
    "class Octothorpe:\n",
    "    def eats():\n",
    "        return \"campers\"\n",
    "    \n",
    "animal1=Bear\n",
    "animal2=Rabbit\n",
    "animal3=Octothorpe\n",
    "\n",
    "print(f\"Bear eats {animal1.eats()} \")\n",
    "print(f\"Rabbit eats {animal2.eats()}\")\n",
    "print(f\"Octothorpe eats {animal3.eats()}\")"
   ]
  },
  {
   "cell_type": "markdown",
   "id": "6d716b07",
   "metadata": {},
   "source": [
    "10. Define these classes: Laser, Claw, and SmartPhone. Each has only one method: does(). This returns 'disintegrate' (Laser), 'crush' (Claw), or 'ring' (SmartPhone). Then, define the class Robot that has one instance (object) of each of these. Define a does() method for the Robot"
   ]
  },
  {
   "cell_type": "code",
   "execution_count": 10,
   "id": "37185b3a",
   "metadata": {},
   "outputs": [
    {
     "name": "stdout",
     "output_type": "stream",
     "text": [
      "Laser does disintegrate \n",
      "Claw does crush\n",
      "SmartPhone does ring\n"
     ]
    }
   ],
   "source": [
    "class Laser:\n",
    "    def does():\n",
    "        return \"disintegrate\"\n",
    "class Claw:\n",
    "    def does():\n",
    "        return \"crush\"\n",
    "class SmartPhone:\n",
    "    def does():\n",
    "        return \"ring\"\n",
    "    \n",
    "Object1=Laser\n",
    "Object2=Claw\n",
    "Object3=SmartPhone\n",
    "\n",
    "print(f\"Laser does {Laser.does()} \")\n",
    "print(f\"Claw does {Claw.does()}\")\n",
    "print(f\"SmartPhone does {SmartPhone.does()}\")"
   ]
  }
 ],
 "metadata": {
  "kernelspec": {
   "display_name": "Python 3 (ipykernel)",
   "language": "python",
   "name": "python3"
  },
  "language_info": {
   "codemirror_mode": {
    "name": "ipython",
    "version": 3
   },
   "file_extension": ".py",
   "mimetype": "text/x-python",
   "name": "python",
   "nbconvert_exporter": "python",
   "pygments_lexer": "ipython3",
   "version": "3.9.12"
  }
 },
 "nbformat": 4,
 "nbformat_minor": 5
}

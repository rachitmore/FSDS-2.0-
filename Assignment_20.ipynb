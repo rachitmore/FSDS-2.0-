{
 "cells": [
  {
   "cell_type": "markdown",
   "id": "ae499843",
   "metadata": {},
   "source": [
    "1. Set the variable test1 to the string 'This is a test of the emergency text system,' and save test1 to a file named test.txt.\n",
    "\n",
    "2. Read the contents of the file test.txt into the variable test2. Is there a difference between test 1 and test 2?\n",
    "\n",
    "3. Create a CSV file called books.csv by using these lines:\n",
    "title,author,year\n",
    "The Weirdstone of Brisingamen,Alan Garner,1960\n",
    "Perdido Street Station,China Miéville,2000\n",
    "Thud!,Terry Pratchett,2005\n",
    "The Spellman Files,Lisa Lutz,2007\n",
    "Small Gods,Terry Pratchett,1992\n",
    "\n",
    "4. Use the sqlite3 module to create a SQLite database called books.db, and a table called books with these fields: title (text), author (text), and year (integer).\n",
    "\n",
    "5. Read books.csv and insert its data into the book table.\n",
    "\n",
    "6. Select and print the title column from the book table in alphabetical order.\n",
    "\n",
    "7. From the book table, select and print all columns in the order of publication.\n",
    "\n",
    "8. Use the sqlalchemy module to connect to the sqlite3 database books.db that you just made in exercise 6.\n",
    "\n",
    "9. Install the Redis server and the Python redis library (pip install redis) on your computer. Create a Redis hash called test with the fields count (1) and name ('Fester Bestertester'). Print all the fields for test.\n",
    "\n",
    "10. Increment the count field of test and print it.\n",
    "\n"
   ]
  },
  {
   "cell_type": "markdown",
   "id": "0e19aac4",
   "metadata": {},
   "source": [
    "1. Set the variable test1 to the string 'This is a test of the emergency text system,' and save test1 to a file named test.txt.\n"
   ]
  },
  {
   "cell_type": "code",
   "execution_count": 1,
   "id": "e5f2e140",
   "metadata": {},
   "outputs": [],
   "source": [
    "test1 = 'This is a test of the emergency text system,'\n",
    "file = open('test.txt','w')\n",
    "file.write(test1)\n",
    "file.close()"
   ]
  },
  {
   "cell_type": "markdown",
   "id": "1e3a0226",
   "metadata": {},
   "source": [
    "2. Read the contents of the file test.txt into the variable test2. Is there a difference between test 1 and test 2?\n"
   ]
  },
  {
   "cell_type": "code",
   "execution_count": 2,
   "id": "888bab7f",
   "metadata": {},
   "outputs": [
    {
     "name": "stdout",
     "output_type": "stream",
     "text": [
      "This is a test of the emergency text system,\n",
      "True  hence  There is no Difference between test1 and test2\n"
     ]
    }
   ],
   "source": [
    "test2=open(\"test.txt\",\"r\")\n",
    "print(test2.read())\n",
    "test2.seek(0)\n",
    "print(test2.read()==test1, \" hence \",\"There is no Difference between test1 and test2\")"
   ]
  },
  {
   "cell_type": "markdown",
   "id": "24076761",
   "metadata": {},
   "source": [
    "3. Create a CSV file called books.csv by using these lines:\n",
    "title,author,year\n",
    "The Weirdstone of Brisingamen,Alan Garner,1960\n",
    "Perdido Street Station,China Miéville,2000\n",
    "Thud!,Terry Pratchett,2005\n",
    "The Spellman Files,Lisa Lutz,2007\n",
    "Small Gods,Terry Pratchett,1992\n"
   ]
  },
  {
   "cell_type": "code",
   "execution_count": 3,
   "id": "82d3e299",
   "metadata": {},
   "outputs": [
    {
     "data": {
      "text/plain": [
       "'title,author,year\\nThe Weirdstone of Brisingamen,Alan Garner,1960\\nPerdido Street Station,China Miéville,2000\\nThud!,Terry Pratchett,2005\\nThe Spellman Files,Lisa Lutz,2007\\nSmall Gods,Terry Pratchett,1992\\n'"
      ]
     },
     "execution_count": 3,
     "metadata": {},
     "output_type": "execute_result"
    }
   ],
   "source": [
    "import csv\n",
    "rows =[ ['title','author','year'],\n",
    "    ['The Weirdstone of Brisingamen','Alan Garner',1960],\n",
    "    ['Perdido Street Station','China Miéville',2000],\n",
    "    ['Thud!','Terry Pratchett',2005],\n",
    "    ['The Spellman Files','Lisa Lutz',2007],\n",
    "    ['Small Gods','Terry Pratchett',1992]]\n",
    "with open('books.csv','w',newline='') as file:\n",
    "    writer = csv.writer(file)\n",
    "    writer.writerows(rows)\n",
    "     \n",
    "f=open(\"books.csv\",\"r\")\n",
    "f.read()"
   ]
  },
  {
   "cell_type": "markdown",
   "id": "e0758a29",
   "metadata": {},
   "source": [
    "4. Use the sqlite3 module to create a SQLite database called books.db, and a table called books with these fields: title (text), author (text), and year (integer).\n"
   ]
  },
  {
   "cell_type": "code",
   "execution_count": 4,
   "id": "1d2ff8e0",
   "metadata": {},
   "outputs": [],
   "source": [
    "import sqlite3 \n",
    "db=sqlite3.connect(\"books.db\")\n",
    "c=db.cursor()\n",
    "c.execute(\"create table if not exists books(title text,author text,year int)\")\n",
    "db.commit()"
   ]
  },
  {
   "cell_type": "markdown",
   "id": "4357970f",
   "metadata": {},
   "source": [
    "5. Read books.csv and insert its data into the book table."
   ]
  },
  {
   "cell_type": "code",
   "execution_count": 5,
   "id": "b18136d7",
   "metadata": {},
   "outputs": [],
   "source": [
    "for i in rows[1:]:\n",
    "    c.execute(f'insert into books values{tuple(i)}')\n",
    "    db.commit()"
   ]
  },
  {
   "cell_type": "markdown",
   "id": "d47ac0ce",
   "metadata": {},
   "source": [
    "6. Select and print the title column from the book table in alphabetical order."
   ]
  },
  {
   "cell_type": "code",
   "execution_count": 6,
   "id": "c1e63401",
   "metadata": {},
   "outputs": [
    {
     "data": {
      "text/plain": [
       "[('Perdido Street Station',),\n",
       " ('Perdido Street Station',),\n",
       " ('Small Gods',),\n",
       " ('Small Gods',),\n",
       " ('The Spellman Files',),\n",
       " ('The Spellman Files',),\n",
       " ('The Weirdstone of Brisingamen',),\n",
       " ('The Weirdstone of Brisingamen',),\n",
       " ('Thud!',),\n",
       " ('Thud!',)]"
      ]
     },
     "execution_count": 6,
     "metadata": {},
     "output_type": "execute_result"
    }
   ],
   "source": [
    "c.execute(\"select title from books order by title\")\n",
    "c.fetchall()"
   ]
  },
  {
   "cell_type": "markdown",
   "id": "71ff020e",
   "metadata": {},
   "source": [
    "7. From the book table, select and print all columns in the order of publication."
   ]
  },
  {
   "cell_type": "code",
   "execution_count": 7,
   "id": "9d7f9d8e",
   "metadata": {},
   "outputs": [
    {
     "data": {
      "text/plain": [
       "<function Connection.close>"
      ]
     },
     "execution_count": 7,
     "metadata": {},
     "output_type": "execute_result"
    }
   ],
   "source": [
    "c.execute(\"select * from books order by author\")\n",
    "c.fetchall()\n",
    "db.commit()\n",
    "db.close"
   ]
  },
  {
   "cell_type": "markdown",
   "id": "691af403",
   "metadata": {},
   "source": [
    "8. Use the sqlalchemy module to connect to the sqlite3 database books.db that you just made in exercise 6."
   ]
  },
  {
   "cell_type": "code",
   "execution_count": 8,
   "id": "ced725e5",
   "metadata": {},
   "outputs": [
    {
     "name": "stdout",
     "output_type": "stream",
     "text": [
      "('The Weirdstone of Brisingamen', 'Alan Garner', 1960)\n",
      "('Perdido Street Station', 'China Miéville', 2000)\n",
      "('Thud!', 'Terry Pratchett', 2005)\n",
      "('The Spellman Files', 'Lisa Lutz', 2007)\n",
      "('Small Gods', 'Terry Pratchett', 1992)\n",
      "('The Weirdstone of Brisingamen', 'Alan Garner', 1960)\n",
      "('Perdido Street Station', 'China Miéville', 2000)\n",
      "('Thud!', 'Terry Pratchett', 2005)\n",
      "('The Spellman Files', 'Lisa Lutz', 2007)\n",
      "('Small Gods', 'Terry Pratchett', 1992)\n"
     ]
    }
   ],
   "source": [
    "import sqlalchemy\n",
    "engine = sqlalchemy.create_engine(f\"sqlite:///books.db\")\n",
    "db = engine.execute(\"select * from books\")\n",
    "for i in db:\n",
    "    print(i)"
   ]
  },
  {
   "cell_type": "markdown",
   "id": "40ec42cf",
   "metadata": {},
   "source": [
    "9. Install the Redis server and the Python redis library (pip install redis) on your computer. Create a Redis hash called test with the fields count (1) and name ('Fester Bestertester'). Print all the fields for test.\n"
   ]
  },
  {
   "cell_type": "code",
   "execution_count": 9,
   "id": "c8cb0952",
   "metadata": {},
   "outputs": [],
   "source": [
    "!pip install redis\n",
    "import redis\n",
    "connect = redis.Redis()\n",
    "connect.hmset(\"test\",{\"count\" : 1,\"name\" : \"Fester Bestertester\"})\n",
    "connect.hgetall(\"test\")"
   ]
  },
  {
   "cell_type": "markdown",
   "id": "00e471f8",
   "metadata": {},
   "source": [
    "10. Increment the count field of test and print it."
   ]
  },
  {
   "cell_type": "code",
   "execution_count": 10,
   "id": "f4bbb091",
   "metadata": {},
   "outputs": [],
   "source": [
    "connect.hincrby(\"test\",\"count\",3)"
   ]
  }
 ],
 "metadata": {
  "kernelspec": {
   "display_name": "Python 3 (ipykernel)",
   "language": "python",
   "name": "python3"
  },
  "language_info": {
   "codemirror_mode": {
    "name": "ipython",
    "version": 3
   },
   "file_extension": ".py",
   "mimetype": "text/x-python",
   "name": "python",
   "nbconvert_exporter": "python",
   "pygments_lexer": "ipython3",
   "version": "3.9.13"
  }
 },
 "nbformat": 4,
 "nbformat_minor": 5
}

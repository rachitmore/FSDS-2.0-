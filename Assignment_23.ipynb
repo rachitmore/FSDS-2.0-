{
 "cells": [
  {
   "cell_type": "markdown",
   "id": "f9344484",
   "metadata": {},
   "source": [
    "1. What is the result of the code, and why?\n",
    ">>> def func(a, b=6, c=8):\n",
    "print(a, b, c)\n",
    ">>> func(1, 2)\n",
    "2. What is the result of this code, and why?\n",
    ">>> def func(a, b, c=5):\n",
    "print(a, b, c)\n",
    ">>> func(1, c=3, b=2)\n",
    "3. How about this code: what is its result, and why?\n",
    ">>> def func(a, *pargs):\n",
    "print(a, pargs)\n",
    ">>> func(1, 2, 3)\n",
    "4. What does this code print, and why?\n",
    ">>> def func(a, **kargs):\n",
    "print(a, kargs)\n",
    ">>> func(a=1, c=3, b=2)\n",
    "5. What gets printed by this, and explain?\n",
    ">>> def func(a, b, c=8, d=5): print(a, b, c, d)\n",
    ">>> func(1, *(5, 6))\n",
    "6. what is the result of this, and explain?\n",
    ">>> def func(a, b, c): a = 2; b[0] = 'x'; c['a'] = 'y'\n",
    ">>> l=1; m=[1]; n={'a':0}\n",
    ">>> func(l, m, n)\n",
    ">>> l, m, n\n"
   ]
  },
  {
   "cell_type": "markdown",
   "id": "bede3282",
   "metadata": {},
   "source": [
    "1. What is the result of the code, and why?\n",
    ">>> def func(a, b=6, c=8):\n",
    "print(a, b, c)\n",
    ">>> func(1, 2)\n",
    "\n",
    "Answer - 1 2 8\n",
    "\n",
    "here 1 is assign to a and 2 is assign to b whereas third argument has not passsed so it will take the default value"
   ]
  },
  {
   "cell_type": "markdown",
   "id": "0f1e5244",
   "metadata": {},
   "source": [
    "2. What is the result of this code, and why?\n",
    ">>> def func(a, b, c=5):\n",
    "print(a, b, c)\n",
    ">>> func(1, c=3, b=2)\n",
    "\n",
    "Answer- 1 2 3\n",
    "\n",
    "Here 1 value assign to a which is position argument whereas c and b are key word argument which will pass to respective variable "
   ]
  },
  {
   "cell_type": "markdown",
   "id": "d305e9c1",
   "metadata": {},
   "source": [
    "3. How about this code: what is its result, and why?\n",
    ">>> def func(a, *pargs):\n",
    "print(a, pargs)\n",
    ">>> func(1, 2, 3)\n",
    "\n",
    "Answer- 1 (2,3)\n",
    "\n",
    "Here 1 is assign to a whereas 2 and 3 is non keyword argument and single asterisk receive non keyword argument and return tuple class while passing the argument"
   ]
  },
  {
   "cell_type": "markdown",
   "id": "32d11b68",
   "metadata": {},
   "source": [
    "4. What does this code print, and why?\n",
    ">>> def func(a, **kargs):\n",
    "print(a, kargs)\n",
    ">>> func(a=1, c=3, b=2)\n",
    "\n",
    "Answer - 1 {'c': 3, 'b': 2}\n",
    "\n",
    "here 1 is assign to a and c and b is key word argument which takes as key and value and return dict , and above double asterisk is used for keyword argument "
   ]
  },
  {
   "cell_type": "markdown",
   "id": "68609cce",
   "metadata": {},
   "source": [
    "5. What gets printed by this, and explain?\n",
    ">>> def func(a, b, c=8, d=5): print(a, b, c, d)\n",
    ">>> func(1, *(5, 6))\n",
    "\n",
    "Answer - 1 5 6 5\n",
    "\n",
    "here single asterisk is used for unpacking the tuple (5,6) b assign to b and 6 assign to c whereas last d is deflaut value"
   ]
  },
  {
   "cell_type": "markdown",
   "id": "7fda89d2",
   "metadata": {},
   "source": [
    "6. what is the result of this, and explain?\n",
    ">>> def func(a, b, c): a = 2; b[0] = 'x'; c['a'] = 'y'\n",
    ">>> l=1; m=[1]; n={'a':0}\n",
    ">>> func(l, m, n)\n",
    ">>> l, m, n\n",
    "\n",
    "Answer - (1, ['x'], {'a': 'y'})\n",
    "\n",
    "Values of l has not changed because l is integer and integer is immutable\n",
    "whereas m and n are list and dict respectively which is mutable and refering to the sample object when passing the values "
   ]
  },
  {
   "cell_type": "code",
   "execution_count": null,
   "id": "194c174c",
   "metadata": {},
   "outputs": [],
   "source": []
  }
 ],
 "metadata": {
  "kernelspec": {
   "display_name": "Python 3 (ipykernel)",
   "language": "python",
   "name": "python3"
  },
  "language_info": {
   "codemirror_mode": {
    "name": "ipython",
    "version": 3
   },
   "file_extension": ".py",
   "mimetype": "text/x-python",
   "name": "python",
   "nbconvert_exporter": "python",
   "pygments_lexer": "ipython3",
   "version": "3.9.12"
  }
 },
 "nbformat": 4,
 "nbformat_minor": 5
}

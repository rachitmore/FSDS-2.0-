{
 "cells": [
  {
   "cell_type": "markdown",
   "id": "32681ea5",
   "metadata": {},
   "source": [
    "1. What are escape characters, and how do you use them?\n",
    "2. What do the escape characters n and t stand for?\n",
    "3. What is the way to include backslash characters in a string?\n",
    "4. The string \"Howl's Moving Castle\" is a correct value. Why isn't the single quote character in the word Howl's not escaped a problem?\n",
    "5. How do you write a string of newlines if you don't want to use the n character?\n",
    "6. What are the values of the given expressions?\n",
    "'Hello, world!'[1]\n",
    "'Hello, world!'[0:5]\n",
    "'Hello, world!'[:5]\n",
    "'Hello, world!'[3:]\n",
    "\n",
    "7. What are the values of the following expressions?\n",
    "'Hello'.upper()\n",
    "'Hello'.upper().isupper()\n",
    "'Hello'.upper().lower()\n",
    "8. What are the values of the following expressions?\n",
    "'Remember, remember, the fifth of July.'.split()\n",
    "'-'.join('There can only one.'.split())\n",
    "9. What are the methods for right-justifying, left-justifying, and centering a string?\n",
    "10. What is the best way to remove whitespace characters from the start or end?"
   ]
  },
  {
   "cell_type": "markdown",
   "id": "53970b2b",
   "metadata": {},
   "source": [
    "1. What are escape characters, and how do you use them?"
   ]
  },
  {
   "cell_type": "code",
   "execution_count": null,
   "id": "4af510b5",
   "metadata": {},
   "outputs": [],
   "source": [
    "# An escape character is a backslash \\ followed by the character you want to insert.\n",
    "txt = 'It\\'s alright.'\n",
    "print(txt)\n",
    "\n",
    "txt = \"This will insert one \\\\ (backslash).\"\n",
    "print(txt)\n",
    "\n",
    "txt = \"Hello\\nWorld!\"\n",
    "print(txt)\n",
    "\n",
    "txt = \"Hello\\rWorld!\"\n",
    "print(txt)\n",
    "\n",
    "txt = \"Hello\\tWorld!\"\n",
    "print(txt)\n",
    "\n",
    "txt = \"Hello \\bWorld!\"\n",
    "print(txt) \n",
    "\n",
    "txt = \"\\110\\145\\154\\154\\157\"\n",
    "print(txt) \n",
    "\n",
    "txt = \"\\x48\\x65\\x6c\\x6c\\x6f\"\n",
    "print(txt)"
   ]
  },
  {
   "cell_type": "markdown",
   "id": "e8af6236",
   "metadata": {},
   "source": [
    "2. What do the escape characters n and t stand for?"
   ]
  },
  {
   "cell_type": "code",
   "execution_count": null,
   "id": "5c9a5634",
   "metadata": {},
   "outputs": [],
   "source": [
    "# \\n stand for New Line\n",
    "# \\r stand for Carriage Return"
   ]
  },
  {
   "cell_type": "markdown",
   "id": "6029d853",
   "metadata": {},
   "source": [
    "3. What is the way to include backslash characters in a string?"
   ]
  },
  {
   "cell_type": "code",
   "execution_count": null,
   "id": "adaf8d60",
   "metadata": {},
   "outputs": [],
   "source": [
    "# \\b\tBackspace\n",
    "txt = \"Hello \\bWorld!\"\n",
    "print(txt) "
   ]
  },
  {
   "cell_type": "markdown",
   "id": "4f0bb105",
   "metadata": {},
   "source": [
    "4. The string \"Howl's Moving Castle\" is a correct value. Why isn't the single quote character in the word Howl's not escaped a problem?"
   ]
  },
  {
   "cell_type": "code",
   "execution_count": null,
   "id": "747ace4e",
   "metadata": {},
   "outputs": [],
   "source": [
    "# the string is not escape character\n",
    "string = \"Howl's Moving Castle\"\n",
    "print(string)"
   ]
  },
  {
   "cell_type": "markdown",
   "id": "079588e5",
   "metadata": {},
   "source": [
    "5. How do you write a string of newlines if you don't want to use the n character?"
   ]
  },
  {
   "cell_type": "code",
   "execution_count": null,
   "id": "6185cef1",
   "metadata": {},
   "outputs": [],
   "source": [
    "print(\"Hello World\")\n",
    "print(\"You are Welcome\")"
   ]
  },
  {
   "cell_type": "markdown",
   "id": "256b1cec",
   "metadata": {},
   "source": [
    "6. What are the values of the given expressions?\n",
    "\n",
    "'Hello, world!'[1]\n",
    "\n",
    "'Hello, world!'[0:5]\n",
    "\n",
    "'Hello, world!'[:5]\n",
    "\n",
    "'Hello, world!'[3:]"
   ]
  },
  {
   "cell_type": "code",
   "execution_count": null,
   "id": "5840a2b4",
   "metadata": {},
   "outputs": [],
   "source": [
    "x='Hello, world!'[1]    #e\n",
    "y='Hello, world!'[0:5]  #\"Hello\"\n",
    "z='Hello, world!'[:5]   #\"Hello\"\n",
    "w='Hello, world!'[3:]   #'lo, world!'\n",
    "\n",
    "print(x)\n",
    "print(y)\n",
    "print(z)\n",
    "print(w)"
   ]
  },
  {
   "cell_type": "markdown",
   "id": "0b461727",
   "metadata": {},
   "source": [
    "7. What are the values of the following expressions?\n",
    "\n",
    "'Hello'.upper()\n",
    "\n",
    "'Hello'.upper().isupper()\n",
    "\n",
    "'Hello'.upper().lower()"
   ]
  },
  {
   "cell_type": "code",
   "execution_count": null,
   "id": "d56e510c",
   "metadata": {},
   "outputs": [],
   "source": [
    "x='Hello'.upper() #HELLO\n",
    "\n",
    "y='Hello'.upper().isupper() #True\n",
    "\n",
    "z='Hello'.upper().lower()#hello\n",
    "print(x)\n",
    "print(y)\n",
    "print(z)"
   ]
  },
  {
   "cell_type": "markdown",
   "id": "c62cf3c9",
   "metadata": {},
   "source": [
    "8. What are the values of the following expressions?\n",
    "\n",
    "'Remember, remember, the fifth of July.'.split()\n",
    "\n",
    "'-'.join('There can only one.'.split())"
   ]
  },
  {
   "cell_type": "code",
   "execution_count": null,
   "id": "5877c12a",
   "metadata": {},
   "outputs": [],
   "source": [
    "x='Remember, remember, the fifth of July.'.split() #['Remember,', 'remember,', 'the', 'fifth', 'of', 'July.']\n",
    "y='-'.join('There can only one.'.split()) #'There-can-only-one.'\n",
    "print(x)\n",
    "print(y)"
   ]
  },
  {
   "cell_type": "markdown",
   "id": "058d8002",
   "metadata": {},
   "source": [
    "9. What are the methods for right-justifying, left-justifying, and centering a string?"
   ]
  },
  {
   "cell_type": "code",
   "execution_count": null,
   "id": "8835308b",
   "metadata": {},
   "outputs": [],
   "source": [
    "txt = \"Welcome to the inuron.ai\"\n",
    "print(f\"Total length of txt is {len(txt)}\")\n",
    "\n",
    "x = txt.rjust(30,\"*\")# 6* added left of the string txt\n",
    "y = txt.ljust(30,\"*\")# 6* added right of the string txt\n",
    "z = txt.center(30,\"*\")# 3-3 * added each side left and right of the string txt\n",
    "print(x)\n",
    "print(y)\n",
    "print(z)"
   ]
  },
  {
   "cell_type": "markdown",
   "id": "d341278c",
   "metadata": {},
   "source": [
    "10. What is the best way to remove whitespace characters from the start or end?"
   ]
  },
  {
   "cell_type": "code",
   "execution_count": null,
   "id": "1568cc59",
   "metadata": {},
   "outputs": [],
   "source": [
    "txt = \"   Welcome to the inuron.ai    \"\n",
    "x=txt.strip()#To remove whitespace from both end\n",
    "y=txt.lstrip()# To remove whitespace from start or left side\n",
    "z=txt.rstrip()# To remove whitespace from end or right side\n",
    "print(x)\n",
    "print(y)\n",
    "print(z)\n"
   ]
  },
  {
   "cell_type": "code",
   "execution_count": null,
   "id": "7a1819a4",
   "metadata": {},
   "outputs": [],
   "source": []
  }
 ],
 "metadata": {
  "kernelspec": {
   "display_name": "Python 3 (ipykernel)",
   "language": "python",
   "name": "python3"
  },
  "language_info": {
   "codemirror_mode": {
    "name": "ipython",
    "version": 3
   },
   "file_extension": ".py",
   "mimetype": "text/x-python",
   "name": "python",
   "nbconvert_exporter": "python",
   "pygments_lexer": "ipython3",
   "version": "3.9.12"
  }
 },
 "nbformat": 4,
 "nbformat_minor": 5
}

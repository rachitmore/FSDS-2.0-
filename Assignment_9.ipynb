{
 "cells": [
  {
   "cell_type": "markdown",
   "id": "ceebcde5",
   "metadata": {},
   "source": [
    "1. To what does a relative path refer?\n",
    "\n",
    "2. What does an absolute path start with your operating system?\n",
    "\n",
    "3. What do the functions os.getcwd() and os.chdir() do?\n",
    "\n",
    "4. What are the . and .. folders?\n",
    "\n",
    "5. In C:\\bacon\\eggs\\spam.txt, which part is the dir name, and which part is the base name?\n",
    "\n",
    "6. What are the three “mode” arguments that can be passed to the open() function?\n",
    "\n",
    "7. What happens if an existing file is opened in write mode?\n",
    "\n",
    "8. How do you tell the difference between read() and readlines()?\n",
    "\n",
    "9. What data structure does a shelf value resemble?\n"
   ]
  },
  {
   "cell_type": "markdown",
   "id": "c263968d",
   "metadata": {},
   "source": [
    "1. To what does a relative path refer?"
   ]
  },
  {
   "cell_type": "code",
   "execution_count": 1,
   "id": "459738ea",
   "metadata": {},
   "outputs": [],
   "source": [
    "# A relative path in Python is a path that describes the location of a directory relative to the entry point,\n",
    "# where you run the Python script."
   ]
  },
  {
   "cell_type": "markdown",
   "id": "bdbed5bc",
   "metadata": {},
   "source": [
    "2. What does an absolute path start with your operating system?"
   ]
  },
  {
   "cell_type": "code",
   "execution_count": 2,
   "id": "ca8719bc",
   "metadata": {},
   "outputs": [],
   "source": [
    "# An absolute path is a path that contains the entire path to the file or directory that you need to access.\n",
    "# This path will begin at the home directory of your computer and will end with the file or directory that you wish to access."
   ]
  },
  {
   "cell_type": "markdown",
   "id": "5c53e9c0",
   "metadata": {},
   "source": [
    "3. What do the functions os.getcwd() and os.chdir() do?"
   ]
  },
  {
   "cell_type": "code",
   "execution_count": 3,
   "id": "67dc3fa5",
   "metadata": {},
   "outputs": [],
   "source": [
    "# os. getcwd() method tells us the location of current working directory (CWD).\n",
    "\n",
    "# os.chdir() method in Python used to change the current working directory to specified path. \n",
    "# It takes only a single argument as new directory path."
   ]
  },
  {
   "cell_type": "markdown",
   "id": "90cc7f33",
   "metadata": {},
   "source": [
    "4. What are the . and .. folders?"
   ]
  },
  {
   "cell_type": "code",
   "execution_count": 4,
   "id": "1290853b",
   "metadata": {},
   "outputs": [],
   "source": [
    "# '.' represents the current directory. While '..' represents the parent directory."
   ]
  },
  {
   "cell_type": "markdown",
   "id": "ad1dfa99",
   "metadata": {},
   "source": [
    "5. In C:\\bacon\\eggs\\spam.txt, which part is the dir name, and which part is the base name?"
   ]
  },
  {
   "cell_type": "code",
   "execution_count": 5,
   "id": "d9f91b9d",
   "metadata": {},
   "outputs": [],
   "source": [
    "# C:\\bacon\\eggs is the dir name, while spam. txt is the base name."
   ]
  },
  {
   "cell_type": "markdown",
   "id": "72677d3f",
   "metadata": {},
   "source": [
    "6. What are the three “mode” arguments that can be passed to the open() function?"
   ]
  },
  {
   "cell_type": "code",
   "execution_count": 6,
   "id": "f3cde0ee",
   "metadata": {},
   "outputs": [],
   "source": [
    "# r: Opens the file in read-only mode. \n",
    "# Starts reading from the beginning of the file and is the default mode for the open() function.\n",
    "\n",
    "# w: Opens in write-only mode. \n",
    "# The pointer is placed at the beginning of the file and this will overwrite any existing file with the same name. \n",
    "# It will create a new file if one with the same name doesn't exist.\n",
    "\n",
    "# r+: Opens a file for reading and writing, placing the pointer at the beginning of the file.\n"
   ]
  },
  {
   "cell_type": "markdown",
   "id": "48be8783",
   "metadata": {},
   "source": [
    "7. What happens if an existing file is opened in write mode?"
   ]
  },
  {
   "cell_type": "code",
   "execution_count": null,
   "id": "236a2440",
   "metadata": {},
   "outputs": [],
   "source": [
    "If a file with the same name already exists, its contents are discarded and the file is treated as a new empty file."
   ]
  },
  {
   "cell_type": "markdown",
   "id": "d2190417",
   "metadata": {},
   "source": [
    "8. How do you tell the difference between read() and readlines()?"
   ]
  },
  {
   "cell_type": "code",
   "execution_count": 7,
   "id": "484d8a5a",
   "metadata": {},
   "outputs": [],
   "source": [
    "# The main difference is that read() will read the whole file at once\n",
    "# and then print out the first characters that take up as many bytes as you specify in the parenthesis \n",
    "# versus the readline() that will read and\n",
    "# print out only the first characters that take up as many bytes as you specify in the parenthesis."
   ]
  },
  {
   "cell_type": "markdown",
   "id": "8c6110a1",
   "metadata": {},
   "source": [
    "9. What data structure does a shelf value resemble?"
   ]
  },
  {
   "cell_type": "code",
   "execution_count": 8,
   "id": "fe0a0eea",
   "metadata": {},
   "outputs": [],
   "source": [
    "#  A shelf value resembles a dictionary value"
   ]
  }
 ],
 "metadata": {
  "kernelspec": {
   "display_name": "Python 3 (ipykernel)",
   "language": "python",
   "name": "python3"
  },
  "language_info": {
   "codemirror_mode": {
    "name": "ipython",
    "version": 3
   },
   "file_extension": ".py",
   "mimetype": "text/x-python",
   "name": "python",
   "nbconvert_exporter": "python",
   "pygments_lexer": "ipython3",
   "version": "3.9.12"
  }
 },
 "nbformat": 4,
 "nbformat_minor": 5
}

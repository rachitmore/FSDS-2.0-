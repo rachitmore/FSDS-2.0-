{
 "cells": [
  {
   "cell_type": "markdown",
   "id": "6a6cc789",
   "metadata": {},
   "source": [
    "1. Add the current date to the text file today.txt as a string.\n",
    "2. Read the text file today.txt into the string today_string\n",
    "3. Parse the date from today_string.\n",
    "4. List the files in your current directory\n",
    "5. Create a list of all of the files in your parent directory (minimum five files should be available).\n",
    "6. Use multiprocessing to create three separate processes. Make each one wait a random number of seconds between one and five, print the current time, and then exit.\n",
    "7. Create a date object of your day of birth.\n",
    "8. What day of the week was your day of birth?\n",
    "9. When will you be (or when were you) 10,000 days old?\n"
   ]
  },
  {
   "cell_type": "markdown",
   "id": "d93c4bc1",
   "metadata": {},
   "source": [
    "1. Add the current date to the text file today.txt as a string."
   ]
  },
  {
   "cell_type": "code",
   "execution_count": 1,
   "id": "3bb69044",
   "metadata": {},
   "outputs": [
    {
     "name": "stdout",
     "output_type": "stream",
     "text": [
      "\n"
     ]
    }
   ],
   "source": [
    "import calendar\n",
    "with open(\"today.txt\",\"r+\") as file:\n",
    "    today_date = str(calendar.datetime.date.today())\n",
    "    file.write(today_date)\n",
    "    print(file.read())"
   ]
  },
  {
   "cell_type": "markdown",
   "id": "8f331f1e",
   "metadata": {},
   "source": [
    "2. Read the text file today.txt into the string today_string"
   ]
  },
  {
   "cell_type": "code",
   "execution_count": 2,
   "id": "3e4092c7",
   "metadata": {},
   "outputs": [
    {
     "name": "stdout",
     "output_type": "stream",
     "text": [
      "2023-02-21\n"
     ]
    }
   ],
   "source": [
    "with open(\"today.txt\",\"r\") as file:\n",
    "    print(file.read())"
   ]
  },
  {
   "cell_type": "markdown",
   "id": "9b32fdff",
   "metadata": {},
   "source": [
    "3. Parse the date from today_string."
   ]
  },
  {
   "cell_type": "code",
   "execution_count": 3,
   "id": "ffac6759",
   "metadata": {},
   "outputs": [
    {
     "name": "stdout",
     "output_type": "stream",
     "text": [
      "2023-02-21 00:00:00\n"
     ]
    }
   ],
   "source": [
    "with open(\"today.txt\",\"r\") as file:\n",
    "    file = file.read()\n",
    "    date_time = calendar.datetime.datetime.strptime(file.replace(\"-\",\"/\"), '%Y/%m/%d')\n",
    "    print(date_time)"
   ]
  },
  {
   "cell_type": "markdown",
   "id": "fe1f3707",
   "metadata": {},
   "source": [
    "4. List the files in your current directory"
   ]
  },
  {
   "cell_type": "code",
   "execution_count": 4,
   "id": "23fe0f84",
   "metadata": {},
   "outputs": [
    {
     "name": "stdout",
     "output_type": "stream",
     "text": [
      "['.ipynb_checkpoints', '09 February 2023.txt', 'Assignment_1 (1).ipynb', 'Assignment_10.ipynb', 'Assignment_11.ipynb', 'Assignment_12.ipynb', 'Assignment_13.ipynb', 'Assignment_14.ipynb', 'Assignment_15.ipynb', 'Assignment_16.ipynb', 'Assignment_17.ipynb', 'Assignment_18.ipynb', 'Assignment_19.ipynb', 'Assignment_2.ipynb', 'Assignment_20.ipynb', 'Assignment_21.ipynb', 'Assignment_22.ipynb', 'Assignment_23.ipynb', 'Assignment_24.ipynb', 'Assignment_25.ipynb', 'Assignment_3.ipynb', 'Assignment_4.ipynb', 'Assignment_5.ipynb', 'Assignment_6.ipynb', 'Assignment_7.ipynb', 'Assignment_8.ipynb', 'Assignment_9.ipynb', 'books.csv', 'books.db', 'EDA.ipynb', 'Flask Classs.ipynb', 'hello.docx', 'mydocument.docx', 'test.txt', 'today.txt', 'zoo', 'zoo.py', '__pycache__']\n"
     ]
    }
   ],
   "source": [
    "import os \n",
    "files = os.listdir(os.curdir)\n",
    "print(files)"
   ]
  },
  {
   "cell_type": "markdown",
   "id": "626b2010",
   "metadata": {},
   "source": [
    "5. Create a list of all of the files in your parent directory (minimum five files should be available)."
   ]
  },
  {
   "cell_type": "code",
   "execution_count": 5,
   "id": "bc78fb25",
   "metadata": {},
   "outputs": [
    {
     "name": "stdout",
     "output_type": "stream",
     "text": [
      "['.ipynb_checkpoints', 'Assignment_1 (1).ipynb', 'Assignment_2.ipynb', 'Assignment_3.ipynb', 'Assignment_4.ipynb', 'Assignment_5.ipynb', 'Python Basic', 'Python Programming']\n"
     ]
    }
   ],
   "source": [
    "file = os.listdir(f'../{os.curdir}')\n",
    "print(file)"
   ]
  },
  {
   "cell_type": "markdown",
   "id": "6e415cb1",
   "metadata": {},
   "source": [
    "6. Use multiprocessing to create three separate processes. Make each one wait a random number of seconds between one and five, print the current time, and then exit."
   ]
  },
  {
   "cell_type": "code",
   "execution_count": 6,
   "id": "b9c1a8b8",
   "metadata": {},
   "outputs": [
    {
     "name": "stdout",
     "output_type": "stream",
     "text": [
      "Waiting for 4 seconds\n",
      "2023-02-21 11:53:16.777966\n",
      "Waiting for 3 seconds\n",
      "2023-02-21 11:53:19.784690\n",
      "Waiting for 5 seconds\n",
      "2023-02-21 11:53:24.788824\n",
      "2023-02-21 11:53:24.788824\n",
      "\n",
      "\n",
      "It takes 12.318764686584473 seconds\n"
     ]
    }
   ],
   "source": [
    "\n",
    "import multiprocessing,time,datetime\n",
    "import random\n",
    "\n",
    "class zoo:\n",
    "    def process1():\n",
    "        t1 = random.randint(1,5)\n",
    "        print(\"Waiting for \"+str(t1)+\" seconds\")\n",
    "        time.sleep(t1)\n",
    "        print(datetime.datetime.now())\n",
    "\n",
    "\n",
    "start = time.time()\n",
    "process1 = zoo.process1()\n",
    "process2 = zoo.process1()\n",
    "process3 = zoo.process1()\n",
    "\n",
    "print(datetime.datetime.now())\n",
    "print(\"\\n\")\n",
    "if __name__==\"__main__\":\n",
    "    \n",
    "    \n",
    "    \n",
    "    p1 = multiprocessing.Process(target=process1)\n",
    "    p2 = multiprocessing.Process(target=process2)\n",
    "    p3 = multiprocessing.Process(target=process3)\n",
    "\n",
    "    p1.start()\n",
    "    p2.start()\n",
    "    p3.start()\n",
    "\n",
    "    p1.join()\n",
    "    p2.join()\n",
    "    p3.join()\n",
    "\n",
    "end = time.time()\n",
    "    \n",
    "\n",
    "print(\"It takes \" +str(end-start)+\" seconds\")\n"
   ]
  },
  {
   "cell_type": "markdown",
   "id": "e1a60c9f",
   "metadata": {},
   "source": [
    "7. Create a date object of your day of birth."
   ]
  },
  {
   "cell_type": "code",
   "execution_count": 7,
   "id": "9e2b8c62",
   "metadata": {},
   "outputs": [
    {
     "data": {
      "text/plain": [
       "datetime.datetime(1998, 5, 20, 0, 0)"
      ]
     },
     "execution_count": 7,
     "metadata": {},
     "output_type": "execute_result"
    }
   ],
   "source": [
    "import calendar\n",
    "class Date:\n",
    "    def __init__(self,dob):\n",
    "        self.dob = dob\n",
    "    def date_of_birth(self):\n",
    "        date_time = calendar.datetime.datetime.strptime(self.dob.replace(\"-\",\"/\"), '%Y/%m/%d')\n",
    "        return date_time\n",
    "    \n",
    "date = Date(\"1998/05/20\")\n",
    "date.date_of_birth()"
   ]
  },
  {
   "cell_type": "markdown",
   "id": "90557989",
   "metadata": {},
   "source": [
    "8. What day of the week was your day of birth?"
   ]
  },
  {
   "cell_type": "code",
   "execution_count": 8,
   "id": "d31f63d2",
   "metadata": {},
   "outputs": [
    {
     "name": "stdout",
     "output_type": "stream",
     "text": [
      "Wednesday\n"
     ]
    }
   ],
   "source": [
    "from calendar import datetime\n",
    "def day_of_week(DOB):\n",
    "    day_of_week = datetime.datetime.weekday(datetime.datetime.strptime(DOB.replace(\"-\",\"/\"), '%Y/%m/%d'))\n",
    "    if day_of_week == 0:\n",
    "        print(\"Monday\")\n",
    "    elif day_of_week == 1:\n",
    "        print(\"Tueday\")\n",
    "    elif day_of_week == 2:\n",
    "        print(\"Wednesday\")\n",
    "    elif day_of_week == 3:\n",
    "        print(\"Thrusday\")\n",
    "    elif day_of_week == 4:\n",
    "        print(\"Friday\")\n",
    "    elif day_of_week == 5:\n",
    "        print(\"Saturday\")\n",
    "    else:\n",
    "        print(\"Sunday\")\n",
    "\n",
    "day_of_week(\"1998/05/20\")"
   ]
  },
  {
   "cell_type": "markdown",
   "id": "08d7737a",
   "metadata": {},
   "source": [
    "9. When will you be (or when were you) 10,000 days old?"
   ]
  },
  {
   "cell_type": "code",
   "execution_count": 9,
   "id": "93db3b12",
   "metadata": {},
   "outputs": [
    {
     "name": "stdout",
     "output_type": "stream",
     "text": [
      "Sunday\n"
     ]
    }
   ],
   "source": [
    "def day_after_sometime(DOB,days_old):\n",
    "    dob_day = datetime.datetime.weekday(datetime.datetime.strptime(DOB.replace(\"-\",\"/\"), '%Y/%m/%d'))\n",
    "    weeks = days_old%7\n",
    "    if dob_day == 0 :\n",
    "        if weeks == 0:\n",
    "            print(\"Monday\")\n",
    "        elif weeks == 1:\n",
    "            print(\"Tueday\")\n",
    "        elif weeks == 2:\n",
    "            print(\"Wednesday\")\n",
    "        elif weeks == 3:\n",
    "            print(\"Thrusday\")\n",
    "        elif weeks == 4:\n",
    "            print(\"Friday\")\n",
    "        elif weeks == 5:\n",
    "            print(\"Saturday\")\n",
    "        else:\n",
    "            print(\"Sunday\")\n",
    "    elif dob_day == 1 :\n",
    "        if weeks == 0:\n",
    "            print(\"Tueday\")\n",
    "        elif weeks == 1:\n",
    "            print(\"Wednesday\")\n",
    "        elif weeks == 2:\n",
    "            print(\"Thursday\")\n",
    "        elif weeks == 3:\n",
    "            print(\"Friday\")\n",
    "        elif weeks == 4:\n",
    "            print(\"Saturday\")\n",
    "        elif weeks == 5:\n",
    "            print(\"Sunday\")\n",
    "        else:\n",
    "            print(\"Monday\")\n",
    "    \n",
    "    elif dob_day == 2 :\n",
    "        if weeks == 0:\n",
    "            print(\"Wednesday\")\n",
    "        elif weeks == 1:\n",
    "            print(\"Thursday\")\n",
    "        elif weeks == 2:\n",
    "            print(\"Friday\")\n",
    "        elif weeks == 3:\n",
    "            print(\"Saturday\")\n",
    "        elif weeks == 4:\n",
    "            print(\"Sunday\")\n",
    "        elif weeks == 5:\n",
    "            print(\"Monday\")\n",
    "        else:\n",
    "            print(\"Tueday\")\n",
    "            \n",
    "    elif dob_day == 3:\n",
    "        if weeks == 0:\n",
    "            print(\"Thursday\")\n",
    "        elif weeks == 1:\n",
    "            print(\"Friday\")\n",
    "        elif weeks == 2:\n",
    "            print(\"Saturday\")\n",
    "        elif weeks == 3:\n",
    "            print(\"Sunday\")\n",
    "        elif weeks == 4:\n",
    "            print(\"Monday\")\n",
    "        elif weeks == 5:\n",
    "            print(\"Tueday\")\n",
    "        else:\n",
    "            print(\"Wednesday\")\n",
    "        \n",
    "    elif dob_day == 4:\n",
    "        if weeks == 0:\n",
    "            print(\"Friday\")\n",
    "        elif weeks == 1:\n",
    "            print(\"Saturday\")\n",
    "        elif weeks == 2:\n",
    "            print(\"Sunday\")\n",
    "        elif weeks == 3:\n",
    "            print(\"Monday\")\n",
    "        elif weeks == 4:\n",
    "            print(\"Tueday\")\n",
    "        elif weeks == 5:\n",
    "            print(\"Wednesday\")\n",
    "        else:\n",
    "            print(\"Thursday\")\n",
    "        \n",
    "    elif dob_day == 5:\n",
    "        if weeks == 0:\n",
    "            print(\"Saturday\")\n",
    "        elif weeks == 1:\n",
    "            print(\"Sunday\")\n",
    "        elif weeks == 2:\n",
    "            print(\"Monday\")\n",
    "        elif weeks == 3:\n",
    "            print(\"Tueday\")\n",
    "        elif weeks == 4:\n",
    "            print(\"Wednesday\")\n",
    "        elif weeks == 5:\n",
    "            print(\"Thursday\")\n",
    "        else:\n",
    "            print(\"Friday\")\n",
    "    elif dob_day == 6:\n",
    "        if weeks == 0:\n",
    "            print(\"Sunday\")\n",
    "        elif weeks == 1:\n",
    "            print(\"Monday\")\n",
    "        elif weeks == 2:\n",
    "            print(\"Tueday\")\n",
    "        elif weeks == 3:\n",
    "            print(\"Wednesday\")\n",
    "        elif weeks == 4:\n",
    "            print(\"Thursday\")\n",
    "        elif weeks == 5:\n",
    "            print(\"Friday\")\n",
    "        else:\n",
    "            print(\"Saturday\")\n",
    "            \n",
    "day_after_sometime(\"1998/05/20\",10000)"
   ]
  }
 ],
 "metadata": {
  "kernelspec": {
   "display_name": "Python 3 (ipykernel)",
   "language": "python",
   "name": "python3"
  },
  "language_info": {
   "codemirror_mode": {
    "name": "ipython",
    "version": 3
   },
   "file_extension": ".py",
   "mimetype": "text/x-python",
   "name": "python",
   "nbconvert_exporter": "python",
   "pygments_lexer": "ipython3",
   "version": "3.9.13"
  }
 },
 "nbformat": 4,
 "nbformat_minor": 5
}

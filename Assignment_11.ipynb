{
 "cells": [
  {
   "cell_type": "markdown",
   "id": "b090dcd8",
   "metadata": {},
   "source": [
    "1. Create an assert statement that throws an AssertionError if the variable spam is a negative integer.\n",
    "\n",
    "2. Write an assert statement that triggers an AssertionError if the variables eggs and bacon contain strings that are the same as each other, even if their cases are different (that is, 'hello' and 'hello' are considered the same, and 'goodbye' and 'GOODbye' are also considered the same).\n",
    "\n",
    "3. Create an assert statement that throws an AssertionError every time.\n",
    "\n",
    "4. What are the two lines that must be present in your software in order to call logging.debug()?\n",
    "\n",
    "5. What are the two lines that your program must have in order to have logging.debug() send a logging message to a file named programLog.txt?\n",
    "\n",
    "6. What are the five levels of logging?\n",
    "\n",
    "7. What line of code would you add to your software to disable all logging messages?\n",
    "\n",
    "8.Why is using logging messages better than using print() to display the same message?\n",
    "\n",
    "9. What are the differences between the Step Over, Step In, and Step Out buttons in the debugger?\n",
    "\n",
    "10.After you click Continue, when will the debugger stop ?\n",
    "\n",
    "11. What is the concept of a breakpoint?\n"
   ]
  },
  {
   "cell_type": "markdown",
   "id": "7c854553",
   "metadata": {},
   "source": [
    "1. Create an assert statement that throws an AssertionError if the variable spam is a negative integer."
   ]
  },
  {
   "cell_type": "code",
   "execution_count": 1,
   "id": "5b5e3a4b",
   "metadata": {},
   "outputs": [],
   "source": [
    "# assert(spam > 0, 'The spam variable is negative.')"
   ]
  },
  {
   "cell_type": "markdown",
   "id": "9661caa7",
   "metadata": {},
   "source": [
    "2. Write an assert statement that triggers an AssertionError if the variables eggs and bacon contain strings that are the same as each other, even if their cases are different (that is, 'hello' and 'hello' are considered the same, and 'goodbye' and 'GOODbye' are also considered the same)."
   ]
  },
  {
   "cell_type": "code",
   "execution_count": 2,
   "id": "5c035062",
   "metadata": {},
   "outputs": [],
   "source": [
    "# assert(eggs.lower() != bacon.lower(), 'The eggs and bacon variables are the same!')\n",
    "# assert(eggs.upper() != bacon.upper(), 'The eggs and bacon variables are the same!')"
   ]
  },
  {
   "cell_type": "markdown",
   "id": "a582458a",
   "metadata": {},
   "source": [
    "3. Create an assert statement that throws an AssertionError every time."
   ]
  },
  {
   "cell_type": "code",
   "execution_count": 3,
   "id": "d1a84c9f",
   "metadata": {},
   "outputs": [],
   "source": [
    "# assert(False, 'This assertion always triggers.')"
   ]
  },
  {
   "cell_type": "markdown",
   "id": "0a6e493b",
   "metadata": {},
   "source": [
    "4. What are the two lines that must be present in your software in order to call logging.debug()?"
   ]
  },
  {
   "cell_type": "code",
   "execution_count": 4,
   "id": "ccf15eb3",
   "metadata": {},
   "outputs": [],
   "source": [
    "# To be able to call logging.debug(), you must have these two lines at the start of your program:\n",
    "\n",
    "import logging \n",
    "\n",
    "logging.basicConfig(level=logging.DEBUG, format=' %(asctime)s - %(levelname)s - %(message)s')"
   ]
  },
  {
   "cell_type": "markdown",
   "id": "e5988ea2",
   "metadata": {},
   "source": [
    "5. What are the two lines that your program must have in order to have logging.debug() send a logging message to a file named programLog.txt?"
   ]
  },
  {
   "cell_type": "code",
   "execution_count": 5,
   "id": "ecb154c2",
   "metadata": {},
   "outputs": [],
   "source": [
    "import logging \n",
    "logging.basicConfig(filename='programLog.txt', level=logging.DEBUG, format=' %(asctime)s - %(levelname)s - %(message)s')"
   ]
  },
  {
   "cell_type": "markdown",
   "id": "3ee5454f",
   "metadata": {},
   "source": [
    "6. What are the five levels of logging?"
   ]
  },
  {
   "cell_type": "code",
   "execution_count": 6,
   "id": "8c37668f",
   "metadata": {},
   "outputs": [],
   "source": [
    "# DEBUG, \n",
    "# INFO, \n",
    "# WARNING,\n",
    "# ERROR,\n",
    "# CRITICAL"
   ]
  },
  {
   "cell_type": "markdown",
   "id": "2ed81098",
   "metadata": {},
   "source": [
    "7. What line of code would you add to your software to disable all logging messages?"
   ]
  },
  {
   "cell_type": "code",
   "execution_count": 7,
   "id": "9468374b",
   "metadata": {},
   "outputs": [],
   "source": [
    "import logging\n",
    "logging.disable(logging.CRITICAL)"
   ]
  },
  {
   "cell_type": "markdown",
   "id": "caefdd31",
   "metadata": {},
   "source": [
    "8.Why is using logging messages better than using print() to display the same message?"
   ]
  },
  {
   "cell_type": "code",
   "execution_count": 8,
   "id": "56b3a15c",
   "metadata": {},
   "outputs": [],
   "source": [
    "# You can disable logging messages without removing the logging function calls. \n",
    "# You can selectively disable lower-level logging messages.\n",
    "# You can create logging messages. Logging messages provides a timestamp."
   ]
  },
  {
   "cell_type": "markdown",
   "id": "84e99a4d",
   "metadata": {},
   "source": [
    "9. What are the differences between the Step Over, Step In, and Step Out buttons in the debugger?"
   ]
  },
  {
   "cell_type": "code",
   "execution_count": 9,
   "id": "5b0a0c92",
   "metadata": {},
   "outputs": [],
   "source": [
    "# The Step button will move the debugger into a function call. \n",
    "# The Over button will quickly execute the function call without stepping into it. \n",
    "# The Out button will quickly execute the rest of the code until it steps out of the function it currently is in."
   ]
  },
  {
   "cell_type": "markdown",
   "id": "9547d0f9",
   "metadata": {},
   "source": [
    "10.After you click Continue, when will the debugger stop ?"
   ]
  },
  {
   "cell_type": "code",
   "execution_count": 10,
   "id": "fc7cb295",
   "metadata": {},
   "outputs": [],
   "source": [
    "# click Go, the debugger will stop when it has reached the end of the program or a line with a breakpoint."
   ]
  },
  {
   "cell_type": "markdown",
   "id": "3806ba28",
   "metadata": {},
   "source": [
    "11. What is the concept of a breakpoint?"
   ]
  },
  {
   "cell_type": "code",
   "execution_count": 11,
   "id": "213fd3a2",
   "metadata": {},
   "outputs": [],
   "source": [
    "#  breakpoint is a setting on a line of code that causes the debugger to pause when the program execution reaches the line"
   ]
  }
 ],
 "metadata": {
  "kernelspec": {
   "display_name": "Python 3 (ipykernel)",
   "language": "python",
   "name": "python3"
  },
  "language_info": {
   "codemirror_mode": {
    "name": "ipython",
    "version": 3
   },
   "file_extension": ".py",
   "mimetype": "text/x-python",
   "name": "python",
   "nbconvert_exporter": "python",
   "pygments_lexer": "ipython3",
   "version": "3.9.12"
  }
 },
 "nbformat": 4,
 "nbformat_minor": 5
}

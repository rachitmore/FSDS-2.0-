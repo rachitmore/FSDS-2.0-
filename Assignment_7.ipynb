{
 "cells": [
  {
   "cell_type": "markdown",
   "id": "0d8e6e07",
   "metadata": {},
   "source": [
    "1. What is the name of the feature responsible for generating Regex objects?\n",
    "\n",
    "2. Why do raw strings often appear in Regex objects?\n",
    "\n",
    "3. What is the return value of the search() method?\n",
    "\n",
    "4. From a Match item, how do you get the actual strings that match the pattern?\n",
    "\n",
    "5. In the regex which created from the r'(\\d\\d\\d)-(\\d\\d\\d-\\d\\d\\d\\d)', what does group zero cover? Group 2? Group 1?\n",
    "\n",
    "6. In standard expression syntax, parentheses and intervals have distinct meanings. How can you tell a regex that you want it to fit real parentheses and periods?\n",
    "\n",
    "7. The findall() method returns a string list or a list of string tuples. What causes it to return one of the two options?\n",
    "\n",
    "8. In standard expressions, what does the | character mean?\n",
    "\n",
    "9. In regular expressions, what does the character stand for?\n",
    "\n",
    "10.In regular expressions, what is the difference between the + and * characters?\n",
    "\n",
    "11. What is the difference between {4} and {4,5} in regular expression?\n",
    "\n",
    "12. What do you mean by the \\d, \\w, and \\s shorthand character classes signify in regular expressions?\n",
    "\n",
    "13. What do means by \\D, \\W, and \\S shorthand character classes signify in regular expressions?\n",
    "\n",
    "14. What is the difference between .*? and .*?\n",
    "\n",
    "15. What is the syntax for matching both numbers and lowercase letters with a character class?\n",
    "\n",
    "16. What is the procedure for making a normal expression in regax case insensitive?\n",
    "\n",
    "17. What does the . character normally match? What does it match if re.DOTALL is passed as 2nd argument in re.compile()?\n",
    "\n",
    "18. If numReg = re.compile(r'\\d+'), what will numRegex.sub('X', '11 drummers, 10 pipers, five rings, 4 hen') return?\n",
    "\n",
    "19. What does passing re.VERBOSE as the 2nd argument to re.compile() allow to do?\n",
    "\n",
    "20. How would you write a regex that match a number with comma for every three digits? It must match the given following:\n",
    "'42'\n",
    "'1,234'\n",
    "'6,368,745'"
   ]
  },
  {
   "cell_type": "markdown",
   "id": "05a91e13",
   "metadata": {},
   "source": [
    "1. What is the name of the feature responsible for generating Regex objects?"
   ]
  },
  {
   "cell_type": "code",
   "execution_count": 1,
   "id": "a587e69c",
   "metadata": {},
   "outputs": [],
   "source": [
    "# The re. compile() function returns Regex objects."
   ]
  },
  {
   "cell_type": "markdown",
   "id": "c703d045",
   "metadata": {},
   "source": [
    "2. Why do raw strings often appear in Regex objects?"
   ]
  },
  {
   "cell_type": "code",
   "execution_count": 2,
   "id": "00b0ae7e",
   "metadata": {},
   "outputs": [],
   "source": [
    "# Raw strings are used so that backslashes do not have to be escaped"
   ]
  },
  {
   "cell_type": "markdown",
   "id": "ae98da0c",
   "metadata": {},
   "source": [
    "3. What is the return value of the search() method?"
   ]
  },
  {
   "cell_type": "code",
   "execution_count": 3,
   "id": "caa1173b",
   "metadata": {},
   "outputs": [],
   "source": [
    "# The search() method returns the index (position) of the first match."
   ]
  },
  {
   "cell_type": "markdown",
   "id": "f962e287",
   "metadata": {},
   "source": [
    "4. From a Match item, how do you get the actual strings that match the pattern?"
   ]
  },
  {
   "cell_type": "code",
   "execution_count": 4,
   "id": "3ff375ee",
   "metadata": {},
   "outputs": [],
   "source": [
    "# The group() method returns strings of the matched text."
   ]
  },
  {
   "cell_type": "markdown",
   "id": "655f544c",
   "metadata": {},
   "source": [
    "5. In the regex which created from the r'(\\d\\d\\d)-(\\d\\d\\d-\\d\\d\\d\\d)', what does group zero cover? Group 2? Group 1?"
   ]
  },
  {
   "cell_type": "code",
   "execution_count": null,
   "id": "bce90853",
   "metadata": {},
   "outputs": [],
   "source": [
    "# Group 0 is the entire match, group 1 covers the first set of parentheses, and group 2 covers the second set of parentheses."
   ]
  },
  {
   "cell_type": "markdown",
   "id": "2f0563af",
   "metadata": {},
   "source": [
    "6. In standard expression syntax, parentheses and intervals have distinct meanings. How can you tell a regex that you want it to fit real parentheses and periods?"
   ]
  },
  {
   "cell_type": "code",
   "execution_count": 1,
   "id": "c2c655a9",
   "metadata": {},
   "outputs": [],
   "source": [
    "# Periods and parentheses can be escaped with a backslash: \\., \\(, and \\)."
   ]
  },
  {
   "cell_type": "markdown",
   "id": "be719d0c",
   "metadata": {},
   "source": [
    "7. The findall() method returns a string list or a list of string tuples. What causes it to return one of the two options?"
   ]
  },
  {
   "cell_type": "code",
   "execution_count": null,
   "id": "ad2d1831",
   "metadata": {},
   "outputs": [],
   "source": [
    "# If the regex has no groups,then a list of strings is returned. \n",
    "# If the regex has groups, then a list of tuples of strings is returned."
   ]
  },
  {
   "cell_type": "markdown",
   "id": "9b5855f4",
   "metadata": {},
   "source": [
    "8. In standard expressions, what does the | character mean?"
   ]
  },
  {
   "cell_type": "code",
   "execution_count": null,
   "id": "d918c09e",
   "metadata": {},
   "outputs": [],
   "source": [
    "# The | character signifies matching “either, or” between two groups."
   ]
  },
  {
   "cell_type": "markdown",
   "id": "dd710b44",
   "metadata": {},
   "source": [
    "9. In regular expressions, what does the character stand for?"
   ]
  },
  {
   "cell_type": "code",
   "execution_count": null,
   "id": "ae679f6d",
   "metadata": {},
   "outputs": [],
   "source": [
    "# All characters, except those having special meaning in regex, matches themselves.\n",
    "# E.g., the regex x matches substring \"x\"; regex 9 matches \"9\"; regex = matches \"=\"; and regex @ matches \"@\"."
   ]
  },
  {
   "cell_type": "markdown",
   "id": "2b505b33",
   "metadata": {},
   "source": [
    "10.In regular expressions, what is the difference between the + and * characters?"
   ]
  },
  {
   "cell_type": "code",
   "execution_count": null,
   "id": "f7a2e774",
   "metadata": {},
   "outputs": [],
   "source": [
    "# The + matches one or more. The * matches zero or more."
   ]
  },
  {
   "cell_type": "markdown",
   "id": "e822d2b8",
   "metadata": {},
   "source": [
    "11. What is the difference between {4} and {4,5} in regular expression?"
   ]
  },
  {
   "cell_type": "code",
   "execution_count": null,
   "id": "cb75593f",
   "metadata": {},
   "outputs": [],
   "source": [
    "#  The {4} matches exactly three instances of the preceding group. \n",
    "# The {4,5} matches between four and five instances."
   ]
  },
  {
   "cell_type": "markdown",
   "id": "c21b9c52",
   "metadata": {},
   "source": [
    "12. What do you mean by the \\d, \\w, and \\s shorthand character classes signify in regular expressions?"
   ]
  },
  {
   "cell_type": "code",
   "execution_count": null,
   "id": "b509947e",
   "metadata": {},
   "outputs": [],
   "source": [
    "# The \\d, \\w, and \\s shorthand character classes match a single digit, word, or space character, respectively."
   ]
  },
  {
   "cell_type": "markdown",
   "id": "f6e5747c",
   "metadata": {},
   "source": [
    "13. What do means by \\D, \\W, and \\S shorthand character classes signify in regular expressions?"
   ]
  },
  {
   "cell_type": "code",
   "execution_count": 2,
   "id": "3cb32154",
   "metadata": {},
   "outputs": [],
   "source": [
    "# The \\D, \\W, and \\S shorthand character classes match a single character that is not a digit, word, or space character, \n",
    "# respectively."
   ]
  },
  {
   "cell_type": "markdown",
   "id": "bd49f00a",
   "metadata": {},
   "source": [
    "14. What is the difference between .*? and .*?"
   ]
  },
  {
   "cell_type": "code",
   "execution_count": 3,
   "id": "ea91e938",
   "metadata": {},
   "outputs": [],
   "source": [
    "# There is no difference in .? and .?"
   ]
  },
  {
   "cell_type": "markdown",
   "id": "4ff62c55",
   "metadata": {},
   "source": [
    "15. What is the syntax for matching both numbers and lowercase letters with a character class?"
   ]
  },
  {
   "cell_type": "code",
   "execution_count": null,
   "id": "f538fc1b",
   "metadata": {},
   "outputs": [],
   "source": [
    "# Either [0-9a-z] or [a-z0-9]"
   ]
  },
  {
   "cell_type": "markdown",
   "id": "63ad09af",
   "metadata": {},
   "source": [
    "16. What is the procedure for making a normal expression in regax case insensitive?"
   ]
  },
  {
   "cell_type": "code",
   "execution_count": null,
   "id": "e5ec8a64",
   "metadata": {},
   "outputs": [],
   "source": [
    "# Passing re.I or re.IGNORECASE as the second argument to re.compile() will make the matching case insensitive."
   ]
  },
  {
   "cell_type": "markdown",
   "id": "cad98892",
   "metadata": {},
   "source": [
    "17. What does the . character normally match? What does it match if re.DOTALL is passed as 2nd argument in re.compile()?"
   ]
  },
  {
   "cell_type": "code",
   "execution_count": null,
   "id": "8aa58986",
   "metadata": {},
   "outputs": [],
   "source": [
    "# The . character normally matches any character except the newline character. If re.DOTALL is passed as the second argument to re.compile(), then the dot will also match newline characters."
   ]
  },
  {
   "cell_type": "markdown",
   "id": "8b3bc0eb",
   "metadata": {},
   "source": [
    "18. If numReg = re.compile(r'\\d+'), what will numRegex.sub('X', '11 drummers, 10 pipers, five rings, 4 hen') return?"
   ]
  },
  {
   "cell_type": "code",
   "execution_count": null,
   "id": "95e20120",
   "metadata": {},
   "outputs": [],
   "source": [
    "# 'X drummers, X pipers, five rings, X hens'"
   ]
  },
  {
   "cell_type": "markdown",
   "id": "67ca7866",
   "metadata": {},
   "source": [
    "19. What does passing re.VERBOSE as the 2nd argument to re.compile() allow to do?"
   ]
  },
  {
   "cell_type": "code",
   "execution_count": null,
   "id": "e9542a56",
   "metadata": {},
   "outputs": [],
   "source": [
    "# The re.VERBOSE argument allows you to add whitespace and comments to the string passed to re.compile()"
   ]
  },
  {
   "cell_type": "markdown",
   "id": "26be696d",
   "metadata": {},
   "source": [
    "20. How would you write a regex that match a number with comma for every three digits? It must match the given following:\n",
    "'42'\n",
    "'1,234'\n",
    "'6,368,745'"
   ]
  },
  {
   "cell_type": "code",
   "execution_count": null,
   "id": "5408deb1",
   "metadata": {},
   "outputs": [],
   "source": [
    "# re.compile(r'^\\d{1,3}(,{3})*$') will create this regex, but other regex strings can produce a similar regular expression."
   ]
  }
 ],
 "metadata": {
  "kernelspec": {
   "display_name": "Python 3 (ipykernel)",
   "language": "python",
   "name": "python3"
  },
  "language_info": {
   "codemirror_mode": {
    "name": "ipython",
    "version": 3
   },
   "file_extension": ".py",
   "mimetype": "text/x-python",
   "name": "python",
   "nbconvert_exporter": "python",
   "pygments_lexer": "ipython3",
   "version": "3.9.12"
  }
 },
 "nbformat": 4,
 "nbformat_minor": 5
}

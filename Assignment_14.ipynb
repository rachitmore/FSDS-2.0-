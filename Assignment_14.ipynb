{
 "cells": [
  {
   "cell_type": "markdown",
   "id": "bffa4720",
   "metadata": {},
   "source": [
    "1. What does RGBA stand for?\n",
    "2. From the Pillow module, how do you get the RGBA value of any images?\n",
    "3. What is a box tuple, and how does it work?\n",
    "4. Use your image and load in notebook then, How can you find out the width and height of an Image object?\n",
    "5. What method would you call to get Image object for a 100×100 image, excluding the lower-left quarter of it?\n",
    "6. After making changes to an Image object, how could you save it as an image file?\n",
    "7. What module contains Pillow’s shape-drawing code?\n",
    "8. Image objects do not have drawing methods. What kind of object does? How do you get this kind of object?\n"
   ]
  },
  {
   "cell_type": "markdown",
   "id": "7c276624",
   "metadata": {},
   "source": [
    "1. What does RGBA stand for?"
   ]
  },
  {
   "cell_type": "code",
   "execution_count": 1,
   "id": "3964797e",
   "metadata": {},
   "outputs": [],
   "source": [
    "# Red-Green-Blue-Alpha"
   ]
  },
  {
   "cell_type": "markdown",
   "id": "de42ae80",
   "metadata": {},
   "source": [
    "2. From the Pillow module, how do you get the RGBA value of any images?"
   ]
  },
  {
   "cell_type": "code",
   "execution_count": 9,
   "id": "097009a4",
   "metadata": {},
   "outputs": [],
   "source": [
    "from PIL import Image\n",
    "img = Image.open(r\"C:\\Users\\RACHIT\\Desktop\\image1.png\")\n",
    "rgba = img.convert(\"RGBA\")\n",
    "data = rgba.getdata()\n",
    "print(data)\n",
    "lof_pixel=[]\n",
    "for pixel in data:\n",
    "    lof_pixel.append(pixel)\n",
    "print(lof_pixel)    "
   ]
  },
  {
   "cell_type": "markdown",
   "id": "2b236e4a",
   "metadata": {},
   "source": [
    "3. What is a box tuple, and how does it work?"
   ]
  },
  {
   "cell_type": "code",
   "execution_count": 3,
   "id": "50316c9d",
   "metadata": {},
   "outputs": [],
   "source": [
    "# The box tuple submodule provides read-only access for the tuple userdata type.\n",
    "# It allows, for a single tuple: \n",
    "# selective retrieval of the field contents, \n",
    "# retrieval of information about size, \n",
    "# iteration over all the fields, \n",
    "# and conversion to a Lua table."
   ]
  },
  {
   "cell_type": "markdown",
   "id": "baaf0420",
   "metadata": {},
   "source": [
    "4. Use your image and load in notebook then, How can you find out the width and height of an Image object?"
   ]
  },
  {
   "cell_type": "code",
   "execution_count": 4,
   "id": "4d6755a0",
   "metadata": {},
   "outputs": [
    {
     "name": "stdout",
     "output_type": "stream",
     "text": [
      "The height of the image is:  768\n",
      "The width of the image is:  1024\n"
     ]
    }
   ],
   "source": [
    "img = Image.open(r\"C:\\Users\\RACHIT\\Desktop\\image1.png\")\n",
    "  \n",
    "# get width and height\n",
    "width = img.width\n",
    "height = img.height\n",
    "  \n",
    "# display width and height\n",
    "print(\"The height of the image is: \", height)\n",
    "print(\"The width of the image is: \", width)"
   ]
  },
  {
   "cell_type": "markdown",
   "id": "3ab5aea5",
   "metadata": {},
   "source": [
    "5. What method would you call to get Image object for a 100×100 image, excluding the lower-left quarter of it?"
   ]
  },
  {
   "cell_type": "code",
   "execution_count": 5,
   "id": "4467ce62",
   "metadata": {},
   "outputs": [],
   "source": [
    "from PIL import Image\n",
    "import numpy as np\n",
    "\n",
    "# Opening the image and converting\n",
    "# it to RGB color mode\n",
    "img = Image.open(r\"C:\\Users\\RACHIT\\Desktop\\image.png\").convert('RGB')\n",
    "\n",
    "# Extracting the image data &\n",
    "# creating an numpy array out of it\n",
    "img_arr = np.array(img)\n",
    "\n",
    "# Turning the pixel values of the lower-left quarter 50x50 pixels to black\n",
    "img_arr[50:, :50] = (0, 0, 0)\n",
    "\n",
    "# Creating an image out of the previously modified array\n",
    "img = Image.fromarray(img_arr)\n",
    "\n",
    "# Displaying the image\n",
    "img.show()"
   ]
  },
  {
   "cell_type": "markdown",
   "id": "da1225b0",
   "metadata": {},
   "source": [
    "6. After making changes to an Image object, how could you save it as an image file?"
   ]
  },
  {
   "cell_type": "code",
   "execution_count": 6,
   "id": "a073e928",
   "metadata": {},
   "outputs": [],
   "source": [
    "img.save(r\"C:\\Users\\RACHIT\\Desktop\\image2.png\")"
   ]
  },
  {
   "cell_type": "markdown",
   "id": "8294c2e0",
   "metadata": {},
   "source": [
    "7. What module contains Pillow’s shape-drawing code?"
   ]
  },
  {
   "cell_type": "code",
   "execution_count": 7,
   "id": "31c664a6",
   "metadata": {},
   "outputs": [],
   "source": [
    "# ImageDraw Module"
   ]
  },
  {
   "cell_type": "markdown",
   "id": "cd9626f7",
   "metadata": {},
   "source": [
    "8. Image objects do not have drawing methods. What kind of object does? How do you get this kind of object?"
   ]
  },
  {
   "cell_type": "code",
   "execution_count": 8,
   "id": "84f45490",
   "metadata": {},
   "outputs": [],
   "source": [
    "# ImageDraw module has drawing method\n",
    "# ImageDraw.Draw()"
   ]
  }
 ],
 "metadata": {
  "kernelspec": {
   "display_name": "Python 3 (ipykernel)",
   "language": "python",
   "name": "python3"
  },
  "language_info": {
   "codemirror_mode": {
    "name": "ipython",
    "version": 3
   },
   "file_extension": ".py",
   "mimetype": "text/x-python",
   "name": "python",
   "nbconvert_exporter": "python",
   "pygments_lexer": "ipython3",
   "version": "3.9.12"
  }
 },
 "nbformat": 4,
 "nbformat_minor": 5
}

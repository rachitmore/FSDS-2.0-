{
 "cells": [
  {
   "cell_type": "markdown",
   "id": "ab69c72c",
   "metadata": {},
   "source": [
    "1. What is the relationship between def statements and lambda expressions ?\n",
    "2. What is the benefit of lambda?\n",
    "3. Compare and contrast map, filter, and reduce.\n",
    "4. What are function annotations, and how are they used?\n",
    "5. What are recursive functions, and how are they used?\n",
    "6. What are some general design guidelines for coding functions?\n",
    "7. Name three or more ways that functions can communicate results to a caller.\n"
   ]
  },
  {
   "cell_type": "markdown",
   "id": "4bcfbd09",
   "metadata": {},
   "source": [
    "1. What is the relationship between def statements and lambda expressions ?"
   ]
  },
  {
   "cell_type": "markdown",
   "id": "c77799ee",
   "metadata": {},
   "source": [
    " Answer ; The Relationship between def statement and lambda expression is\n",
    "def statement create name or specific function which can be use any where in the program by calling whereas\n",
    "lambda expreesion create annonomous function which use at the on execution"
   ]
  },
  {
   "cell_type": "markdown",
   "id": "e3e2b8a6",
   "metadata": {},
   "source": [
    "2. What is the benefit of lambda?"
   ]
  },
  {
   "cell_type": "code",
   "execution_count": 1,
   "id": "884522ed",
   "metadata": {},
   "outputs": [],
   "source": [
    "# Lambda helps you use a function only once, and hence, avoids cluttering up the code with function definitions. \n",
    "# In short, Python's lambda keyword lets you define a function in a single line of code and use it immediately."
   ]
  },
  {
   "cell_type": "markdown",
   "id": "6d9b299f",
   "metadata": {},
   "source": [
    "3. Compare and contrast map, filter, and reduce."
   ]
  },
  {
   "cell_type": "code",
   "execution_count": 2,
   "id": "362dc3f4",
   "metadata": {},
   "outputs": [],
   "source": [
    "# The map() function iterates through all items in the given iterable and \n",
    "# executes the function we passed as an argument on each of them.\n",
    "\n",
    "# map(function, iterable(s))\n",
    "\n",
    "\n",
    "# filter() forms a new list that contains only elements that satisfy a certain condition,\n",
    "# i.e. the function we passed returns True.\n",
    "\n",
    "# filter(function, iterable(s))\n",
    "\n",
    "\n",
    "# reduce() works differently than map() and filter(). \n",
    "# It does not return a new list based on the function and iterable we've passed. \n",
    "# Instead, it returns a single value.\n",
    "\n",
    "# reduce(function, sequence[, initial])"
   ]
  },
  {
   "cell_type": "markdown",
   "id": "a3fe081b",
   "metadata": {},
   "source": [
    "4. What are function annotations, and how are they used?"
   ]
  },
  {
   "cell_type": "code",
   "execution_count": 3,
   "id": "b4bbb7d8",
   "metadata": {},
   "outputs": [
    {
     "data": {
      "text/plain": [
       "30"
      ]
     },
     "execution_count": 3,
     "metadata": {},
     "output_type": "execute_result"
    }
   ],
   "source": [
    "# Function annotations are arbitrary python expressions that are associated with various part of functions. \n",
    "# These expressions are evaluated at compile time and have no life in python’s runtime environment.\n",
    "# Python does not attach any meaning to these annotations\n",
    "def test(x:int,y:int)->int:\n",
    "    \"\"\"\n",
    "    Function annotations help user to know what is expected to takes argument and return values\n",
    "    \"\"\"\n",
    "    z=x+y\n",
    "    return z\n",
    "test(10,20)"
   ]
  },
  {
   "cell_type": "markdown",
   "id": "c0b54f0d",
   "metadata": {},
   "source": [
    "5. What are recursive functions, and how are they used?"
   ]
  },
  {
   "cell_type": "code",
   "execution_count": 4,
   "id": "7f898b31",
   "metadata": {},
   "outputs": [
    {
     "data": {
      "text/plain": [
       "120"
      ]
     },
     "execution_count": 4,
     "metadata": {},
     "output_type": "execute_result"
    }
   ],
   "source": [
    "# A recursive function can be defined as a routine that calls itself directly or indirectly.\n",
    "def factorial(n):\n",
    "    if n==0 or n==1:#Here first function checking condition \n",
    "        return 1\n",
    "    else:\n",
    "        return n*factorial(n-1)#here function calling itself and it create a loop till the value of n fall in if block\n",
    "#factorial(4) here the value of n is 4 so it fall in else block\n",
    "# factorial(3)here the value of n is 3 so it fall in else block\n",
    "# factorial(2)here the value of n is 2 so it fall in else block\n",
    "# factorial(1)here the value of n is 1 so it fall in if block\n",
    "# here we got the value of factorial(1) which is 1\n",
    "\n",
    "# this value will be used in factorial(2) which is n*factorial(1) i.e., 2*1\n",
    "# this value will be used in factorial(3) which is n*factorial(2) i.e., 3*2*1\n",
    "# this value will be used in factorial(4) which is n*factorial(3) i.e., 4*3*2*1\n",
    "# this value will be used in factorial(5) which is n*factorial(4) i.e., 5*4*3*2*1\n",
    "factorial(5)"
   ]
  },
  {
   "cell_type": "markdown",
   "id": "e60a97d1",
   "metadata": {},
   "source": [
    "6. What are some general design guidelines for coding functions?"
   ]
  },
  {
   "cell_type": "code",
   "execution_count": 5,
   "id": "334a32e7",
   "metadata": {},
   "outputs": [
    {
     "data": {
      "text/plain": [
       "'Ineuron2.0'"
      ]
     },
     "execution_count": 5,
     "metadata": {},
     "output_type": "execute_result"
    }
   ],
   "source": [
    "# The best practice for international environments.\n",
    "\n",
    "# Trailing comma\n",
    "# You can leave a trailing comma on the last entry. \n",
    "# It is useful because then every line has the same format and adding entries to the end is the same as adding them to the middle.\n",
    "\n",
    "# Using docstrings\n",
    "# We can use the triple quotes for the docstrings\n",
    "\n",
    "# Using spaces\n",
    "# It's one of the best practices to use a space before and after an operator.\n",
    "# Use a space after the comma as well for more readability.\n",
    "\n",
    "# Naming Variables, Constants, Classes and Functions\n",
    "# Follow the same case for variables, constants, classes and functions across the program.\n",
    "\n",
    "# Comment updating\n",
    "# Always keep your comments up to date. Don't forget to update the comments while updating code.\n",
    "\n",
    "# Use logging module instead of print method\n",
    "\n",
    "# Use of annotaion in function as well as arguments\n",
    "\n",
    "def test(string:str,expression:object)->str:\n",
    "    \"\"\"\n",
    "    This function takes two argument string and expression and return the concatenate of them   \n",
    "    \"\"\"\n",
    "    conca=string+str(expression)\n",
    "    return conca\n",
    "test(\"Ineuron\",2.0)"
   ]
  },
  {
   "cell_type": "markdown",
   "id": "fd5c965d",
   "metadata": {},
   "source": [
    "7. Name three or more ways that functions can communicate results to a caller.\n"
   ]
  },
  {
   "cell_type": "code",
   "execution_count": 6,
   "id": "96cbf8b7",
   "metadata": {},
   "outputs": [
    {
     "name": "stdout",
     "output_type": "stream",
     "text": [
      "string\n",
      "('string', 10)\n",
      "([1, 2, 3, 4, 5], {1: 2, 3: 4, 5: 6})\n",
      "string\n",
      "<function test at 0x00000200495FE790>\n"
     ]
    }
   ],
   "source": [
    "# Function can return single value\n",
    "# It Can return multiple values, tuple\n",
    "# It can return list,dictionary\n",
    "# It can return function object\n",
    "# It can return class object\n",
    "def test():\n",
    "    return \"string\"\n",
    "print(test())\n",
    "\n",
    "def test1():\n",
    "    return \"string\",10\n",
    "print(test1())\n",
    "\n",
    "def test2():\n",
    "    l=[1,2,3,4,5]\n",
    "    d={1:2,3:4,5:6}\n",
    "    return l,d\n",
    "print(test2())\n",
    "\n",
    "x=test()\n",
    "def test4():\n",
    "    return x\n",
    "print(test4())\n",
    "\n",
    "def test5():\n",
    "    return test\n",
    "print(test5())"
   ]
  },
  {
   "cell_type": "code",
   "execution_count": null,
   "id": "3ca9415f",
   "metadata": {},
   "outputs": [],
   "source": []
  }
 ],
 "metadata": {
  "kernelspec": {
   "display_name": "Python 3 (ipykernel)",
   "language": "python",
   "name": "python3"
  },
  "language_info": {
   "codemirror_mode": {
    "name": "ipython",
    "version": 3
   },
   "file_extension": ".py",
   "mimetype": "text/x-python",
   "name": "python",
   "nbconvert_exporter": "python",
   "pygments_lexer": "ipython3",
   "version": "3.9.12"
  }
 },
 "nbformat": 4,
 "nbformat_minor": 5
}

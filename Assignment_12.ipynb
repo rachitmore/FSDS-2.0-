{
 "cells": [
  {
   "cell_type": "markdown",
   "id": "10b3d6a9",
   "metadata": {},
   "source": [
    "1. In what modes should the PdfFileReader() and PdfFileWriter() File objects will be opened?\n",
    "\n",
    "2. From a PdfFileReader object, how do you get a Page object for page 5?\n",
    "\n",
    "3. What PdfFileReader variable stores the number of pages in the PDF document?\n",
    "\n",
    "4. If a PdfFileReader object’s PDF is encrypted with the password swordfish, what must you do before you can obtain Page objects from it?\n",
    "\n",
    "5. What methods do you use to rotate a page?\n",
    "\n",
    "6. What is the difference between a Run object and a Paragraph object?\n",
    "\n",
    "7. How do you obtain a list of Paragraph objects for a Document object that’s stored in a variable named doc?\n",
    "\n",
    "8. What type of object has bold, underline, italic, strike, and outline variables?\n",
    "\n",
    "9. What is the difference between False, True, and None for the bold variable?\n",
    "\n",
    "10. How do you create a Document object for a new Word document?\n",
    "\n",
    "11. How do you add a paragraph with the text 'Hello, there!' to a Document object stored in a variable named doc?\n",
    "\n",
    "12. What integers represent the levels of headings available in Word documents?\n"
   ]
  },
  {
   "cell_type": "markdown",
   "id": "6205ad53",
   "metadata": {},
   "source": [
    "1. In what modes should the PdfFileReader() and PdfFileWriter() File objects will be opened?"
   ]
  },
  {
   "cell_type": "code",
   "execution_count": null,
   "id": "2e5a82ef",
   "metadata": {},
   "outputs": [],
   "source": [
    "# For PdfFileReader() file objects should be opened in rb ,\n",
    "# Whereas for PdfFileWriter() file objects should be opened in wb"
   ]
  },
  {
   "cell_type": "markdown",
   "id": "1a964b89",
   "metadata": {},
   "source": [
    "2. From a PdfFileReader object, how do you get a Page object for page 5?"
   ]
  },
  {
   "cell_type": "code",
   "execution_count": null,
   "id": "54a5943d",
   "metadata": {},
   "outputs": [],
   "source": [
    "# PdfFileReader class provides a method called getPage(page_no) to get a page object. \n",
    "# Calling getPage(4) will return a Page object for page 5 since page 0 is the first page"
   ]
  },
  {
   "cell_type": "markdown",
   "id": "463f982a",
   "metadata": {},
   "source": [
    "3. What PdfFileReader variable stores the number of pages in the PDF document?"
   ]
  },
  {
   "cell_type": "code",
   "execution_count": null,
   "id": "cfd8e318",
   "metadata": {},
   "outputs": [],
   "source": [
    "# getNumPages() method of PdfFileReader class stores the no pages in a PDF document"
   ]
  },
  {
   "cell_type": "markdown",
   "id": "1275ba64",
   "metadata": {},
   "source": [
    "4. If a PdfFileReader object’s PDF is encrypted with the password swordfish, what must you do before you can obtain Page objects from it?"
   ]
  },
  {
   "cell_type": "code",
   "execution_count": null,
   "id": "fc2b065a",
   "metadata": {},
   "outputs": [],
   "source": [
    "# If a PdfFileReader object’s PDF is encrypted with the password swordfish and you're not aware of it.\n",
    "# first read the Pdf using the PdfFileReader Class. \n",
    "# PdfFileReader class provides a attribute called isEncrypted to check whether a pdf is encrypted or not. \n",
    "# the method returns true if a pdf is encrypted and vice versa.\n",
    "# if pdf is encrypted use the decrypt() method provided by PdfFileReader class first then try to read the contents/pages of the pdf, \n",
    "# else PyPDF2 will raise the following error PyPDF2.utils.PdfReadError: file has not been decrypted"
   ]
  },
  {
   "cell_type": "markdown",
   "id": "3dfe16be",
   "metadata": {},
   "source": [
    "5. What methods do you use to rotate a page?"
   ]
  },
  {
   "cell_type": "code",
   "execution_count": null,
   "id": "991f33d9",
   "metadata": {},
   "outputs": [],
   "source": [
    "# PyPDF2 Package provides 2 methods to rotate a page:\n",
    "\n",
    "# rotateClockWise() -> For Clockwise rotation\n",
    "# rotateCounterClockWise() -> For Counter Clockwise rotation\n",
    "\n",
    "# The PyPDF2 package only allows you to rotate a page in increments of 90 degrees. You will receive an AssertionError otherwise."
   ]
  },
  {
   "cell_type": "markdown",
   "id": "48e0974a",
   "metadata": {},
   "source": [
    "6. What is the difference between a Run object and a Paragraph object?"
   ]
  },
  {
   "cell_type": "code",
   "execution_count": null,
   "id": "b707ccf3",
   "metadata": {},
   "outputs": [],
   "source": [
    "# The structure of a document is represented by three different data types in python-Docx. \n",
    "# At the highest level, a Document object represents the entire document. \n",
    "# The Document object contains a list of Paragraph objects for the paragraphs in the document.\n",
    "# (A new paragraph begins whenever the user presses ENTER or RETURN while typing in a Word document.) \n",
    "# Each of these Paragraph objects contains a list of one or more Run objects.\n",
    "\n",
    "# The text in a Word document is more than just a string.\n",
    "# It has font, size, color, and other styling information associated with it. \n",
    "# A style in Word is a collection of these attributes. \n",
    "# A Run object is a contiguous run of text with the same style.\n",
    "# A new Run object is needed whenever the text style changes."
   ]
  },
  {
   "cell_type": "markdown",
   "id": "7aeb4338",
   "metadata": {},
   "source": [
    "7. How do you obtain a list of Paragraph objects for a Document object that’s stored in a variable named doc?"
   ]
  },
  {
   "cell_type": "code",
   "execution_count": 1,
   "id": "22a17dd8",
   "metadata": {},
   "outputs": [],
   "source": [
    "# from docx import Document\n",
    "# doc = Document(\"sample_file.docx\") \n",
    "# print(doc.paragraphs) \n",
    "# for paragraph in doc.paragraphs:\n",
    "#     print(paragraph.text)"
   ]
  },
  {
   "cell_type": "markdown",
   "id": "ea48a08e",
   "metadata": {},
   "source": [
    "8. What type of object has bold, underline, italic, strike, and outline variables?"
   ]
  },
  {
   "cell_type": "code",
   "execution_count": null,
   "id": "9807f080",
   "metadata": {},
   "outputs": [],
   "source": [
    "# Run object has bold, underline, italic, strike, and outline variables. \n",
    "# The text in a Word document is more than just a string.\n",
    "# It has font, size, color, and other styling information associated with it.\n",
    "\n",
    "# A style in Word is a collection of these attributes. \n",
    "# A Run object is a contiguous run of text with the same style. \n",
    "# A new Run object is needed whenever the text style changes."
   ]
  },
  {
   "cell_type": "markdown",
   "id": "89efca02",
   "metadata": {},
   "source": [
    "9. What is the difference between False, True, and None for the bold variable?"
   ]
  },
  {
   "cell_type": "code",
   "execution_count": null,
   "id": "789c6065",
   "metadata": {},
   "outputs": [],
   "source": [
    "bold = True  # Style Set to Bold\n",
    "bold = False # Style Not Set to Bold\n",
    "bold = None # Style is Not Applicable"
   ]
  },
  {
   "cell_type": "markdown",
   "id": "f198b583",
   "metadata": {},
   "source": [
    "10. How do you create a Document object for a new Word document?"
   ]
  },
  {
   "cell_type": "code",
   "execution_count": null,
   "id": "fa03d2b3",
   "metadata": {},
   "outputs": [],
   "source": [
    "from docx import Document\n",
    "document = Document()\n",
    "document.add_paragraph(\"Learn python programming\")\n",
    "document.save('mydocument.docx')"
   ]
  },
  {
   "cell_type": "markdown",
   "id": "d746810b",
   "metadata": {},
   "source": [
    "11. How do you add a paragraph with the text 'Hello, there!' to a Document object stored in a variable named doc?"
   ]
  },
  {
   "cell_type": "code",
   "execution_count": null,
   "id": "94cf3465",
   "metadata": {},
   "outputs": [],
   "source": [
    "from docx import Document\n",
    "doc = Document()\n",
    "doc.add_paragraph('Hello, there!')\n",
    "doc.save('hello.docx')"
   ]
  },
  {
   "cell_type": "markdown",
   "id": "a0684b0c",
   "metadata": {},
   "source": [
    "12. What integers represent the levels of headings available in Word documents?"
   ]
  },
  {
   "cell_type": "code",
   "execution_count": null,
   "id": "8c53573e",
   "metadata": {},
   "outputs": [],
   "source": [
    "# The levels for a heading in a word document can be specified by using the level attribute inside the add_heading method.\n",
    "# There are a total of 5 levels statring for 0 t0 4. \n",
    "# where level 0 makes a headline with the horizontal line below the text,\n",
    "# whereas the heading level 1 is the main heading. \n",
    "# Similarly, the other headings are sub-heading with their's font-sizes in decreasing order."
   ]
  },
  {
   "cell_type": "code",
   "execution_count": null,
   "id": "2cd9726e",
   "metadata": {},
   "outputs": [],
   "source": []
  },
  {
   "cell_type": "code",
   "execution_count": null,
   "id": "1d8afd7f",
   "metadata": {},
   "outputs": [],
   "source": []
  }
 ],
 "metadata": {
  "kernelspec": {
   "display_name": "Python 3 (ipykernel)",
   "language": "python",
   "name": "python3"
  },
  "language_info": {
   "codemirror_mode": {
    "name": "ipython",
    "version": 3
   },
   "file_extension": ".py",
   "mimetype": "text/x-python",
   "name": "python",
   "nbconvert_exporter": "python",
   "pygments_lexer": "ipython3",
   "version": "3.9.12"
  }
 },
 "nbformat": 4,
 "nbformat_minor": 5
}

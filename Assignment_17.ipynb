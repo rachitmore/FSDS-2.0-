{
 "cells": [
  {
   "cell_type": "markdown",
   "id": "acce8033",
   "metadata": {},
   "source": [
    "1. Assign the value 7 to the variable guess_me. Then, write the conditional tests (if, else, and elif) to print the string 'too low' if guess_me is less than 7, 'too high' if greater than 7, and 'just right' if equal to 7.\n",
    "\n",
    "2. Assign the value 7 to the variable guess_me and the value 1 to the variable start. Write a while loop that compares start with guess_me. Print too low if start is less than guess me. If start equals guess_me, print 'found it!' and exit the loop. If start is greater than guess_me, print 'oops' and exit the loop. Increment start at the end of the loop.\n",
    "\n",
    "3. Print the following values of the list [3, 2, 1, 0] using a for loop.\n",
    "\n",
    "4. Use a list comprehension to make a list of the even numbers in range(10)\n",
    "\n",
    "5. Use a dictionary comprehension to create the dictionary squares. Use range(10) to return the keys, and use the square of each key as its value.\n",
    "\n",
    "6. Construct the set odd from the odd numbers in the range using a set comprehension (10).\n",
    "\n",
    "7. Use a generator comprehension to return the string 'Got ' and a number for the numbers in range(10). Iterate through this by using a for loop.\n",
    "\n",
    "8. Define a function called good that returns the list ['Harry', 'Ron', 'Hermione'].\n",
    "\n",
    "9. Define a generator function called get_odds that returns the odd numbers from range(10). Use a for loop to find and print the third value returned.\n",
    "\n",
    "10. Define an exception called OopsException. Raise this exception to see what happens. Then write the code to catch this exception and print 'Caught an oops'.\n",
    "\n",
    "11. Use zip() to make a dictionary called movies that pairs these lists: titles = ['Creature of Habit', 'Crewel Fate'] and plots = ['A nun turns into a monster', 'A haunted yarn shop'].\n"
   ]
  },
  {
   "cell_type": "markdown",
   "id": "ac4fe2ed",
   "metadata": {},
   "source": [
    "1. Assign the value 7 to the variable guess_me. Then, write the conditional tests (if, else, and elif) to print the string 'too low' if guess_me is less than 7, 'too high' if greater than 7, and 'just right' if equal to 7.\n"
   ]
  },
  {
   "cell_type": "code",
   "execution_count": 1,
   "id": "474ac38c",
   "metadata": {},
   "outputs": [
    {
     "name": "stdout",
     "output_type": "stream",
     "text": [
      "just right\n"
     ]
    }
   ],
   "source": [
    "guess_me=7\n",
    "if guess_me<7:\n",
    "    print(\"too low\")\n",
    "elif guess_me>7:\n",
    "    print(\"too high\")\n",
    "else:\n",
    "    print(\"just right\")"
   ]
  },
  {
   "cell_type": "markdown",
   "id": "e3a032e6",
   "metadata": {},
   "source": [
    "2. Assign the value 7 to the variable guess_me and the value 1 to the variable start. Write a while loop that compares start with guess_me. Print too low if start is less than guess me. If start equals guess_me, print 'found it!' and exit the loop. If start is greater than guess_me, print 'oops' and exit the loop. Increment start at the end of the loop.\n"
   ]
  },
  {
   "cell_type": "code",
   "execution_count": 2,
   "id": "5f82fd37",
   "metadata": {},
   "outputs": [
    {
     "name": "stdout",
     "output_type": "stream",
     "text": [
      "too low\n",
      "too low\n",
      "too low\n",
      "too low\n",
      "too low\n",
      "too low\n",
      "found it!\n"
     ]
    }
   ],
   "source": [
    "guess_me = 7\n",
    "start = 1\n",
    "\n",
    "while True:\n",
    "    if start < guess_me:\n",
    "        print('too low')\n",
    "    elif start == guess_me:\n",
    "        print('found it!')\n",
    "        break\n",
    "    else:\n",
    "        print('oops')\n",
    "        break\n",
    "    start += 1"
   ]
  },
  {
   "cell_type": "markdown",
   "id": "0e858bcc",
   "metadata": {},
   "source": [
    "3. Print the following values of the list [3, 2, 1, 0] using a for loop.\n"
   ]
  },
  {
   "cell_type": "code",
   "execution_count": 3,
   "id": "6af64a42",
   "metadata": {},
   "outputs": [
    {
     "name": "stdout",
     "output_type": "stream",
     "text": [
      "3\n",
      "2\n",
      "1\n",
      "0\n"
     ]
    }
   ],
   "source": [
    "values=[3,2,1,0]\n",
    "for i in values:\n",
    "    print(i)"
   ]
  },
  {
   "cell_type": "markdown",
   "id": "5b93cf98",
   "metadata": {},
   "source": [
    "4. Use a list comprehension to make a list of the even numbers in range(10)\n"
   ]
  },
  {
   "cell_type": "code",
   "execution_count": 4,
   "id": "4a6b5faf",
   "metadata": {},
   "outputs": [
    {
     "data": {
      "text/plain": [
       "[0, 2, 4, 6, 8]"
      ]
     },
     "execution_count": 4,
     "metadata": {},
     "output_type": "execute_result"
    }
   ],
   "source": [
    "[even for even in range(10) if even%2==0]"
   ]
  },
  {
   "cell_type": "markdown",
   "id": "da02cd56",
   "metadata": {},
   "source": [
    "5. Use a dictionary comprehension to create the dictionary squares. Use range(10) to return the keys, and use the square of each key as its value.\n"
   ]
  },
  {
   "cell_type": "code",
   "execution_count": 5,
   "id": "d8c4b6b7",
   "metadata": {},
   "outputs": [
    {
     "data": {
      "text/plain": [
       "{0: 0, 1: 1, 2: 4, 3: 9, 4: 16, 5: 25, 6: 36, 7: 49, 8: 64, 9: 81}"
      ]
     },
     "execution_count": 5,
     "metadata": {},
     "output_type": "execute_result"
    }
   ],
   "source": [
    "{key:key**2 for key in range(10)}"
   ]
  },
  {
   "cell_type": "markdown",
   "id": "c3170590",
   "metadata": {},
   "source": [
    "6. Construct the set odd from the odd numbers in the range using a set comprehension (10).\n"
   ]
  },
  {
   "cell_type": "code",
   "execution_count": 6,
   "id": "065febed",
   "metadata": {},
   "outputs": [],
   "source": [
    "s={set_odd for set_odd in range(10) if set_odd%2!=0}"
   ]
  },
  {
   "cell_type": "markdown",
   "id": "d54897aa",
   "metadata": {},
   "source": [
    "7. Use a generator comprehension to return the string 'Got ' and a number for the numbers in range(10). Iterate through this by using a for loop.\n"
   ]
  },
  {
   "cell_type": "code",
   "execution_count": 7,
   "id": "bc60e671",
   "metadata": {},
   "outputs": [
    {
     "name": "stdout",
     "output_type": "stream",
     "text": [
      "Got 0\n",
      "Got 1\n",
      "Got 2\n",
      "Got 3\n",
      "Got 4\n",
      "Got 5\n",
      "Got 6\n",
      "Got 7\n",
      "Got 8\n",
      "Got 9\n"
     ]
    }
   ],
   "source": [
    "for i in ('Got '+ str(num) for num in range(10)):\n",
    "    print(i)\n"
   ]
  },
  {
   "cell_type": "markdown",
   "id": "147ea3e6",
   "metadata": {},
   "source": [
    "8. Define a function called good that returns the list ['Harry', 'Ron', 'Hermione'].\n"
   ]
  },
  {
   "cell_type": "code",
   "execution_count": 8,
   "id": "1cbd157c",
   "metadata": {},
   "outputs": [
    {
     "data": {
      "text/plain": [
       "['Harry', 'Ron', 'Hermione']"
      ]
     },
     "execution_count": 8,
     "metadata": {},
     "output_type": "execute_result"
    }
   ],
   "source": [
    "def good():\n",
    "    return  ['Harry', 'Ron', 'Hermione']\n",
    "good()"
   ]
  },
  {
   "cell_type": "markdown",
   "id": "d9ffbd7a",
   "metadata": {},
   "source": [
    "9. Define a generator function called get_odds that returns the odd numbers from range(10). Use a for loop to find and print the third value returned.\n"
   ]
  },
  {
   "cell_type": "code",
   "execution_count": 9,
   "id": "6f77fb42",
   "metadata": {},
   "outputs": [
    {
     "name": "stdout",
     "output_type": "stream",
     "text": [
      "5\n"
     ]
    }
   ],
   "source": [
    "def get_odds():\n",
    "    odds=(odd for odd in range(10) if odd%2==1)\n",
    "    o=[]\n",
    "    for i in odds:\n",
    "        o.append(i)\n",
    "    for i in o:\n",
    "        if i==o[2]:\n",
    "            print(i)\n",
    "get_odds()"
   ]
  },
  {
   "cell_type": "markdown",
   "id": "234aa2fd",
   "metadata": {},
   "source": [
    "10. Define an exception called OopsException. Raise this exception to see what happens. Then write the code to catch this exception and print 'Caught an oops'.\n"
   ]
  },
  {
   "cell_type": "code",
   "execution_count": 10,
   "id": "a1bebfeb",
   "metadata": {},
   "outputs": [
    {
     "name": "stdout",
     "output_type": "stream",
     "text": [
      "Caught an oops\n"
     ]
    }
   ],
   "source": [
    "class OopsException(Exception):\n",
    "    pass\n",
    "def exception(a):\n",
    "    if a > 0:\n",
    "        raise OopsException(a)\n",
    "try:\n",
    "    exception(1)\n",
    "except OopsException:\n",
    "    print('Caught an oops')\n",
    "        "
   ]
  },
  {
   "cell_type": "markdown",
   "id": "2ca63764",
   "metadata": {},
   "source": [
    "11. Use zip() to make a dictionary called movies that pairs these lists: titles = ['Creature of Habit', 'Crewel Fate'] and plots = ['A nun turns into a monster', 'A haunted yarn shop'].\n"
   ]
  },
  {
   "cell_type": "code",
   "execution_count": 11,
   "id": "79a68351",
   "metadata": {},
   "outputs": [
    {
     "data": {
      "text/plain": [
       "{'Creature of Habit': 'A nun turns into a monster',\n",
       " 'Crewel Fate': 'A haunted yarn shop'}"
      ]
     },
     "execution_count": 11,
     "metadata": {},
     "output_type": "execute_result"
    }
   ],
   "source": [
    "titles = ['Creature of Habit', 'Crewel Fate'] \n",
    "plots = ['A nun turns into a monster', 'A haunted yarn shop']\n",
    "movies=dict(zip(titles,plots))\n",
    "movies"
   ]
  }
 ],
 "metadata": {
  "kernelspec": {
   "display_name": "Python 3 (ipykernel)",
   "language": "python",
   "name": "python3"
  },
  "language_info": {
   "codemirror_mode": {
    "name": "ipython",
    "version": 3
   },
   "file_extension": ".py",
   "mimetype": "text/x-python",
   "name": "python",
   "nbconvert_exporter": "python",
   "pygments_lexer": "ipython3",
   "version": "3.9.12"
  }
 },
 "nbformat": 4,
 "nbformat_minor": 5
}

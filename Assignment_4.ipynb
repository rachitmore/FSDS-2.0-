{
 "cells": [
  {
   "cell_type": "markdown",
   "id": "560cff97",
   "metadata": {},
   "source": [
    "1. What exactly is []?\n",
    "\n",
    "2. In a list of values stored in a variable called spam, how would you assign the value 'hello' as the third value? (Assume [2, 4, 6, 8, 10] are in spam.)\n",
    "Let's pretend the spam includes the list ['a', 'b', 'c', 'd'] for the next three queries.\n",
    "\n",
    "3. What is the value of spam[int(int('3' * 2) / 11)]?\n",
    "\n",
    "4. What is the value of spam[-1]?\n",
    "\n",
    "5. What is the value of spam[:2]?\n",
    "Let's pretend bacon has the list [3.14, 'cat,' 11, 'cat,' True] for the next three questions.\n",
    "\n",
    "6. What is the value of bacon.index('cat')?\n",
    "\n",
    "7. How does bacon.append(99) change the look of the list value in bacon?\n",
    "\n",
    "8. How does bacon.remove('cat') change the look of the list in bacon?\n",
    "\n",
    "9. What are the list concatenation and list replication operators?\n",
    "\n",
    "10. What is difference between the list methods append() and insert()?\n",
    "\n",
    "11. What are the two methods for removing items from a list?\n",
    "\n",
    "12. Describe how list values and string values are identical.\n",
    "\n",
    "13. What's the difference between tuples and lists?\n",
    "\n",
    "14. How do you type a tuple value that only contains the integer 42?\n",
    "\n",
    "15. How do you get a list value's tuple form? How do you get a tuple value's list form?\n",
    "\n",
    "16. Variables that \"contain\" list values are not necessarily lists themselves. Instead, what do they contain?\n",
    "\n",
    "17. How do you distinguish between copy.copy() and copy.deepcopy()?\n"
   ]
  },
  {
   "cell_type": "markdown",
   "id": "ef1030a9",
   "metadata": {},
   "source": [
    "1. What exactly is []?"
   ]
  },
  {
   "cell_type": "code",
   "execution_count": 1,
   "id": "c9f04901",
   "metadata": {},
   "outputs": [],
   "source": [
    "# This is the square bracket represent the object is list"
   ]
  },
  {
   "cell_type": "markdown",
   "id": "7a0d67d0",
   "metadata": {},
   "source": [
    "2. In a list of values stored in a variable called spam, how would you assign the value 'hello' as the third value? (Assume [2, 4, 6, 8, 10] are in spam.)\n",
    "Let's pretend the spam includes the list ['a', 'b', 'c', 'd'] for the next three queries."
   ]
  },
  {
   "cell_type": "code",
   "execution_count": 2,
   "id": "47af40f6",
   "metadata": {},
   "outputs": [],
   "source": [
    "spam = [2,4,6,8,10]\n",
    "spam.insert(2,\"hello\")"
   ]
  },
  {
   "cell_type": "markdown",
   "id": "cac6e309",
   "metadata": {},
   "source": [
    " Let's pretend the spam includes the list ['a', 'b', 'c', 'd'] for the next three queries."
   ]
  },
  {
   "cell_type": "code",
   "execution_count": 3,
   "id": "ad31c81f",
   "metadata": {},
   "outputs": [],
   "source": [
    "spam.clear()\n",
    "spam.append([\"a\",\"b\",\"c\",\"d\"])\n",
    "spam=spam[0]"
   ]
  },
  {
   "cell_type": "markdown",
   "id": "907f29c1",
   "metadata": {},
   "source": [
    "3. What is the value of spam[int(int('3' * 2) / 11)]?"
   ]
  },
  {
   "cell_type": "code",
   "execution_count": 4,
   "id": "7aed996d",
   "metadata": {},
   "outputs": [
    {
     "data": {
      "text/plain": [
       "True"
      ]
     },
     "execution_count": 4,
     "metadata": {},
     "output_type": "execute_result"
    }
   ],
   "source": [
    "spam[int(int('3' * 2) / 11)]\n",
    "# Answer would be \"d\" as the solution of expression is 3\n",
    "\"3\"*2==\"33\"\n",
    "int(\"33\")==33\n",
    "33/11==3.0\n",
    "int(3.0)==3\n",
    "# indexing start in python from 0 so d would be 4 element in third index \n",
    "spam[3]==\"d\"\n",
    "spam[int(int('3' * 2) / 11)]==\"d\""
   ]
  },
  {
   "cell_type": "markdown",
   "id": "2aa18817",
   "metadata": {},
   "source": [
    "4. What is the value of spam[-1]?"
   ]
  },
  {
   "cell_type": "code",
   "execution_count": 5,
   "id": "b208164b",
   "metadata": {},
   "outputs": [
    {
     "data": {
      "text/plain": [
       "True"
      ]
     },
     "execution_count": 5,
     "metadata": {},
     "output_type": "execute_result"
    }
   ],
   "source": [
    "spam[-1]\n",
    "# answer would be \"d\" as in python to start indexing from behind we have to use negative integer and\n",
    "# \"d\" is the first element from behind\n",
    "spam[-1]=='d'"
   ]
  },
  {
   "cell_type": "markdown",
   "id": "02dd6611",
   "metadata": {},
   "source": [
    "5. What is the value of spam[:2]?\n"
   ]
  },
  {
   "cell_type": "code",
   "execution_count": 6,
   "id": "8347ac5d",
   "metadata": {},
   "outputs": [
    {
     "data": {
      "text/plain": [
       "True"
      ]
     },
     "execution_count": 6,
     "metadata": {},
     "output_type": "execute_result"
    }
   ],
   "source": [
    "spam[:2]\n",
    "# Answer would be \"a\",\"b\" index 2 is exculuded \n",
    "spam[:2]==[\"a\",\"b\"]"
   ]
  },
  {
   "cell_type": "markdown",
   "id": "f56cc9cb",
   "metadata": {},
   "source": [
    "Let's pretend bacon has the list [3.14, 'cat,' 11, 'cat,' True] for the next three questions."
   ]
  },
  {
   "cell_type": "code",
   "execution_count": 8,
   "id": "45fc0874",
   "metadata": {},
   "outputs": [],
   "source": [
    "bacon = [3.14, 'cat', 11, 'cat' ,True]"
   ]
  },
  {
   "cell_type": "markdown",
   "id": "a39e67ec",
   "metadata": {},
   "source": [
    "6. What is the value of bacon.index('cat')?"
   ]
  },
  {
   "cell_type": "code",
   "execution_count": 9,
   "id": "800320e1",
   "metadata": {},
   "outputs": [
    {
     "data": {
      "text/plain": [
       "1"
      ]
     },
     "execution_count": 9,
     "metadata": {},
     "output_type": "execute_result"
    }
   ],
   "source": [
    "bacon.index(\"cat\")"
   ]
  },
  {
   "cell_type": "markdown",
   "id": "4f04c394",
   "metadata": {},
   "source": [
    "7. How does bacon.append(99) change the look of the list value in bacon?"
   ]
  },
  {
   "cell_type": "code",
   "execution_count": 10,
   "id": "416b45a8",
   "metadata": {},
   "outputs": [
    {
     "name": "stdout",
     "output_type": "stream",
     "text": [
      "[3.14, 'cat', 11, 'cat', True, 99]\n"
     ]
    }
   ],
   "source": [
    "bacon.append(99)\n",
    "# it will append 99 at the last of the list and increase the size of list\n",
    "print(bacon)\n"
   ]
  },
  {
   "cell_type": "markdown",
   "id": "48653753",
   "metadata": {},
   "source": [
    "8. How does bacon.remove('cat') change the look of the list in bacon?"
   ]
  },
  {
   "cell_type": "code",
   "execution_count": 11,
   "id": "808fb5f0",
   "metadata": {},
   "outputs": [
    {
     "name": "stdout",
     "output_type": "stream",
     "text": [
      "[3.14, 11, 'cat', True, 99]\n"
     ]
    }
   ],
   "source": [
    "bacon.remove(\"cat\")\n",
    "#it will remove  from the first one added \"cat\" which occur first will remove first\n",
    "print(bacon)"
   ]
  },
  {
   "cell_type": "markdown",
   "id": "5c6b7921",
   "metadata": {},
   "source": [
    "9. What are the list concatenation and list replication operators?"
   ]
  },
  {
   "cell_type": "code",
   "execution_count": 12,
   "id": "5728b7a7",
   "metadata": {},
   "outputs": [
    {
     "name": "stdout",
     "output_type": "stream",
     "text": [
      "here the x value is concatenate [1, 2, 3, 4, 5, 6]\n",
      "here the x value is replicated [1, 2, 3, 1, 2, 3, 1, 2, 3]\n"
     ]
    }
   ],
   "source": [
    "# List concatenation is +\n",
    "# List replication operators is *\n",
    "a=[1,2,3]\n",
    "b=[4,5,6]\n",
    "y=a+b\n",
    "z=a*3\n",
    "print(f\"here the x value is concatenate {y}\")\n",
    "print(f\"here the x value is replicated {z}\")"
   ]
  },
  {
   "cell_type": "markdown",
   "id": "b73a6c07",
   "metadata": {},
   "source": [
    "10. What is difference between the list methods append() and insert()?"
   ]
  },
  {
   "cell_type": "code",
   "execution_count": 13,
   "id": "0aaf77b4",
   "metadata": {},
   "outputs": [
    {
     "name": "stdout",
     "output_type": "stream",
     "text": [
      "Here the value is added in the last of the list [1, 2, 3, 'Hello']\n",
      "Here the value is added in the first position by giving index of the list ['Hello', 4, 5, 6]\n"
     ]
    }
   ],
   "source": [
    "# Append method in list add value at the last and insert add the value at certain index\n",
    "x=[1,2,3]\n",
    "y=[4,5,6]\n",
    "x.append(\"Hello\")\n",
    "y.insert(0,\"Hello\")\n",
    "print(f\"Here the value is added in the last of the list {x}\")\n",
    "print(f\"Here the value is added in the first position by giving index of the list {y}\")"
   ]
  },
  {
   "cell_type": "markdown",
   "id": "41ee4758",
   "metadata": {},
   "source": [
    "11. What are the two methods for removing items from a list?"
   ]
  },
  {
   "cell_type": "code",
   "execution_count": 14,
   "id": "39ade845",
   "metadata": {},
   "outputs": [
    {
     "name": "stdout",
     "output_type": "stream",
     "text": [
      "[2, 3, 4]\n"
     ]
    }
   ],
   "source": [
    "l=[1,2,3,4,5]\n",
    "l.remove(1)\n",
    "l.pop()\n",
    "# here the l.remove removed the given item and l.pop removed the last element added\n",
    "print(l)"
   ]
  },
  {
   "cell_type": "markdown",
   "id": "2160152d",
   "metadata": {},
   "source": [
    "12. Describe how list values and string values are identical."
   ]
  },
  {
   "cell_type": "code",
   "execution_count": 15,
   "id": "ed652582",
   "metadata": {},
   "outputs": [],
   "source": [
    "# Here are few reason of list values and string values are identicals\n",
    "# 1. List and string can contain any value\n",
    "# 2. Concatenation and replication work same with both list and string\n",
    "# 3. len and count function same with list and string"
   ]
  },
  {
   "cell_type": "markdown",
   "id": "1eef9eb9",
   "metadata": {},
   "source": [
    "13. What's the difference between tuples and lists?"
   ]
  },
  {
   "cell_type": "code",
   "execution_count": 16,
   "id": "daa60193",
   "metadata": {},
   "outputs": [],
   "source": [
    "# here are few difference between tuples and list\n",
    "# list are mutable and tuple are immutable\n",
    "# tuple are faster then list\n",
    "# tuple are hashable but list are not hashable"
   ]
  },
  {
   "cell_type": "markdown",
   "id": "2db15803",
   "metadata": {},
   "source": [
    "14. How do you type a tuple value that only contains the integer 42?"
   ]
  },
  {
   "cell_type": "code",
   "execution_count": 17,
   "id": "9fb80791",
   "metadata": {},
   "outputs": [
    {
     "data": {
      "text/plain": [
       "tuple"
      ]
     },
     "execution_count": 17,
     "metadata": {},
     "output_type": "execute_result"
    }
   ],
   "source": [
    "t=(42,)\n",
    "type(t)"
   ]
  },
  {
   "cell_type": "markdown",
   "id": "e6758b3c",
   "metadata": {},
   "source": [
    "15. How do you get a list value's tuple form? How do you get a tuple value's list form?"
   ]
  },
  {
   "cell_type": "code",
   "execution_count": 18,
   "id": "fefeafc6",
   "metadata": {},
   "outputs": [
    {
     "name": "stdout",
     "output_type": "stream",
     "text": [
      "Before change the list [1, 2, 3, 4, 5] is type <class 'list'>\n",
      "Before change the tuple (6, 7, 8, 9, 10) is type <class 'tuple'>\n",
      "After change the list (1, 2, 3, 4, 5) is type <class 'tuple'>\n",
      "After change the list [6, 7, 8, 9, 10] is type <class 'list'>\n"
     ]
    }
   ],
   "source": [
    "l=[1,2,3,4,5]\n",
    "t=(6,7,8,9,10)\n",
    "print(f\"Before change the list {l} is type {type(l)}\")\n",
    "print(f\"Before change the tuple {t} is type {type(t)}\")\n",
    "l=tuple(l)\n",
    "t=list(t)\n",
    "print(f\"After change the list {l} is type {type(l)}\")\n",
    "print(f\"After change the list {t} is type {type(t)}\")"
   ]
  },
  {
   "cell_type": "markdown",
   "id": "65ce689a",
   "metadata": {},
   "source": [
    "16. Variables that \"contain\" list values are not necessarily lists themselves. Instead, what do they contain?"
   ]
  },
  {
   "cell_type": "code",
   "execution_count": 19,
   "id": "a9de84d1",
   "metadata": {},
   "outputs": [],
   "source": [
    "# Variable that can contain list values if it is not necessarily lists then it will be TUPLE"
   ]
  },
  {
   "cell_type": "markdown",
   "id": "75e9a9b6",
   "metadata": {},
   "source": [
    "17. How do you distinguish between copy.copy() and copy.deepcopy()?"
   ]
  },
  {
   "cell_type": "code",
   "execution_count": 20,
   "id": "6fddc6df",
   "metadata": {},
   "outputs": [],
   "source": [
    "# copy.copy() will be refer to the same object while copy.deepcopy() will create the new object  "
   ]
  }
 ],
 "metadata": {
  "kernelspec": {
   "display_name": "Python 3 (ipykernel)",
   "language": "python",
   "name": "python3"
  },
  "language_info": {
   "codemirror_mode": {
    "name": "ipython",
    "version": 3
   },
   "file_extension": ".py",
   "mimetype": "text/x-python",
   "name": "python",
   "nbconvert_exporter": "python",
   "pygments_lexer": "ipython3",
   "version": "3.9.12"
  }
 },
 "nbformat": 4,
 "nbformat_minor": 5
}

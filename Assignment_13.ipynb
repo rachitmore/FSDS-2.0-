{
 "cells": [
  {
   "cell_type": "markdown",
   "id": "2961a558",
   "metadata": {},
   "source": [
    "1. What advantages do Excel spreadsheets have over CSV spreadsheets?\n",
    "2.What do you pass to csv.reader() and csv.writer() to create reader and writer objects?\n",
    "3. What modes do File objects for reader and writer objects need to be opened in?\n",
    "4. What method takes a list argument and writes it to a CSV file?\n",
    "5. What do the keyword arguments delimiter and line terminator do?\n",
    "6. What function takes a string of JSON data and returns a Python data structure?\n",
    "7. What function takes a Python data structure and returns a string of JSON data?\n"
   ]
  },
  {
   "cell_type": "markdown",
   "id": "334d5e85",
   "metadata": {},
   "source": [
    "1. What advantages do Excel spreadsheets have over CSV spreadsheets?"
   ]
  },
  {
   "cell_type": "code",
   "execution_count": 1,
   "id": "d0d570bc",
   "metadata": {},
   "outputs": [],
   "source": [
    "# While Excel (XLS and XLSX) file formats are better for storing more complex data\n",
    "# Excel file can be password protected\n",
    "# Excel can perform VBA coding,function,formula and create summaries easily compare to csv.\n",
    "# reading larger dataset in excel is easier than csv files for the end user"
   ]
  },
  {
   "cell_type": "markdown",
   "id": "16b81fc9",
   "metadata": {},
   "source": [
    "2.What do you pass to csv.reader() and csv.writer() to create reader and writer objects?"
   ]
  },
  {
   "cell_type": "code",
   "execution_count": 3,
   "id": "601b03fb",
   "metadata": {},
   "outputs": [],
   "source": [
    "# import csv\n",
    "# csv.reader((iterable ,[ dialect='excel']\n",
    "#                         ,[optional keyword args]))"
   ]
  },
  {
   "cell_type": "markdown",
   "id": "bc828366",
   "metadata": {},
   "source": [
    "3. What modes do File objects for reader and writer objects need to be opened in?"
   ]
  },
  {
   "cell_type": "code",
   "execution_count": 4,
   "id": "3e3c60fd",
   "metadata": {},
   "outputs": [],
   "source": [
    "# 'r+' opens the file for both reading and writing."
   ]
  },
  {
   "cell_type": "markdown",
   "id": "02567b39",
   "metadata": {},
   "source": [
    "4. What method takes a list argument and writes it to a CSV file?"
   ]
  },
  {
   "cell_type": "code",
   "execution_count": 5,
   "id": "b04dc4d2",
   "metadata": {},
   "outputs": [],
   "source": [
    "# writerow() method of writer"
   ]
  },
  {
   "cell_type": "markdown",
   "id": "0a696b75",
   "metadata": {},
   "source": [
    "5. What do the keyword arguments delimiter and line terminator do?"
   ]
  },
  {
   "cell_type": "code",
   "execution_count": 6,
   "id": "175c45d0",
   "metadata": {},
   "outputs": [],
   "source": [
    "# The delimiter is the character that appears between cells on a row. By default, the delimiter for a CSV file is a comma. \n",
    "# The line terminator is the character that comes at the end of a row. By default, the line terminator is a newline\n",
    "\n",
    "# You can change characters to different values by using the delimiter and lineterminator keyword arguments with csv.writer()."
   ]
  },
  {
   "cell_type": "markdown",
   "id": "ace6f8cf",
   "metadata": {},
   "source": [
    "6. What function takes a string of JSON data and returns a Python data structure?"
   ]
  },
  {
   "cell_type": "code",
   "execution_count": 7,
   "id": "00478679",
   "metadata": {},
   "outputs": [],
   "source": [
    "# We use the json.loads() method to parse a JSON string and return a Python object such as a dictionary.\n",
    "# The json.loads() method takes the file contents as a string."
   ]
  },
  {
   "cell_type": "markdown",
   "id": "cbe994a1",
   "metadata": {},
   "source": [
    "7. What function takes a Python data structure and returns a string of JSON data?"
   ]
  },
  {
   "cell_type": "code",
   "execution_count": 8,
   "id": "cce2195f",
   "metadata": {},
   "outputs": [],
   "source": [
    "# If you have a Python object, you can convert it into a JSON string by using the json.dumps() method."
   ]
  }
 ],
 "metadata": {
  "kernelspec": {
   "display_name": "Python 3 (ipykernel)",
   "language": "python",
   "name": "python3"
  },
  "language_info": {
   "codemirror_mode": {
    "name": "ipython",
    "version": 3
   },
   "file_extension": ".py",
   "mimetype": "text/x-python",
   "name": "python",
   "nbconvert_exporter": "python",
   "pygments_lexer": "ipython3",
   "version": "3.9.12"
  }
 },
 "nbformat": 4,
 "nbformat_minor": 5
}

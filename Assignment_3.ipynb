{
 "cells": [
  {
   "cell_type": "markdown",
   "id": "ed0b610b",
   "metadata": {},
   "source": [
    "1. Why are functions advantageous to have in your programs?\n",
    "\n",
    "2. When does the code in a function run: when it's specified or when it's called?\n",
    "    \n",
    "3. What statement creates a function?\n",
    "\n",
    "4. What is the difference between a function and a function call?\n",
    "\n",
    "5. How many global scopes are there in a Python program? How many local scopes?\n",
    "\n",
    "6. What happens to variables in a local scope when the function call returns?\n",
    "\n",
    "7. What is the concept of a return value? Is it possible to have a return value in an expression?\n",
    "\n",
    "8. If a function does not have a return statement, what is the return value of a call to that function?\n",
    "\n",
    "9. How do you make a function variable refer to the global variable?\n",
    "\n",
    "10. What is the data type of None?\n",
    "\n",
    "11. What does the sentence import areallyourpetsnamederic do?\n",
    "\n",
    "12. If you had a bacon() feature in a spam module, what would you call it after importing spam?\n",
    "\n",
    "13. What can you do to save a programme from crashing if it encounters an error?\n",
    "\n",
    "14. What is the purpose of the try clause? What is the purpose of the except clause?\n"
   ]
  },
  {
   "cell_type": "markdown",
   "id": "256b184f",
   "metadata": {},
   "source": [
    "1. Why are functions advantageous to have in your programs?"
   ]
  },
  {
   "cell_type": "code",
   "execution_count": 2,
   "id": "b51cc6cd",
   "metadata": {},
   "outputs": [
    {
     "name": "stdout",
     "output_type": "stream",
     "text": [
      "this is create for the purpose of demonstration of function working \n",
      "this is create for the purpose of demonstration of function working \n",
      "this is create for the purpose of demonstration of function working \n"
     ]
    }
   ],
   "source": [
    "#Advantage of function is to use the same set of instruction again and again by calling the same function\n",
    "def my_function():\n",
    "    print(\"this is create for the purpose of demonstration of function working \")\n",
    "my_function()#here we are calling function by function name and parenthesis\n",
    "my_function()\n",
    "my_function()#We can call function many times as we want "
   ]
  },
  {
   "cell_type": "markdown",
   "id": "f9253bc1",
   "metadata": {},
   "source": [
    "2. When does the code in a function run: when it's specified or when it's called?"
   ]
  },
  {
   "cell_type": "code",
   "execution_count": 3,
   "id": "4988efba",
   "metadata": {},
   "outputs": [
    {
     "name": "stdout",
     "output_type": "stream",
     "text": [
      "this is run whenever you call function by function name and parenthesis\n"
     ]
    }
   ],
   "source": [
    "# The code in a function run when it s called any time \n",
    "def my_function2():\n",
    "    print(\"this is run whenever you call function by function name and parenthesis\")\n",
    "my_function2()#It is called calling of function"
   ]
  },
  {
   "cell_type": "markdown",
   "id": "74205b30",
   "metadata": {},
   "source": [
    "3. What statement creates a function?"
   ]
  },
  {
   "cell_type": "code",
   "execution_count": 4,
   "id": "64b8a7fa",
   "metadata": {},
   "outputs": [
    {
     "name": "stdout",
     "output_type": "stream",
     "text": [
      "this is statement in the python\n"
     ]
    }
   ],
   "source": [
    "# def is the key work to make function and \n",
    "# any statment can create in the function under the function with some indentation\n",
    "\n",
    "def my_function3():\n",
    "    print(\"this is statement in the python\")#here we can write as many as statement in function by giving proper indentation\n",
    "my_function3()    "
   ]
  },
  {
   "cell_type": "markdown",
   "id": "d5bce426",
   "metadata": {},
   "source": [
    "4. What is the difference between a function and a function call?"
   ]
  },
  {
   "cell_type": "code",
   "execution_count": null,
   "id": "ef76a609",
   "metadata": {},
   "outputs": [],
   "source": [
    "#differene between a function and a function call is function contain a set of instruction which will execute while calling the function \n",
    "def my_function4():\n",
    "    print(\"this is a sample\")\n",
    "my_function4()#"
   ]
  },
  {
   "cell_type": "markdown",
   "id": "f517f702",
   "metadata": {},
   "source": [
    "5. How many global scopes are there in a Python program? How many local scopes?"
   ]
  },
  {
   "cell_type": "code",
   "execution_count": 9,
   "id": "01da012c",
   "metadata": {},
   "outputs": [
    {
     "name": "stdout",
     "output_type": "stream",
     "text": [
      "here x is local variable 12\n",
      "here y is global variable 22\n",
      "2\n",
      "22\n"
     ]
    }
   ],
   "source": [
    "#there is always a one global scope per individual variable and as similar local variable is also one local scope per individual variable \n",
    "x=2\n",
    "y=3\n",
    "def my_function():\n",
    "    x = 10 # here x is a local variable so change will be limited to the scope\n",
    "    x += 2\n",
    "    global y# here y is global variable so what ever which change occur in global variable it will reflect in everywhere in program \n",
    "    y=20\n",
    "    y += 2\n",
    "    print(\"here x is local variable\",x)\n",
    "    print(\"here y is global variable\",y)\n",
    "my_function()\n",
    "print(x)\n",
    "print(y)\n"
   ]
  },
  {
   "cell_type": "markdown",
   "id": "a774d629",
   "metadata": {},
   "source": [
    "6. What happens to variables in a local scope when the function call returns?"
   ]
  },
  {
   "cell_type": "code",
   "execution_count": 14,
   "id": "6069a9a4",
   "metadata": {},
   "outputs": [
    {
     "data": {
      "text/plain": [
       "10"
      ]
     },
     "execution_count": 14,
     "metadata": {},
     "output_type": "execute_result"
    }
   ],
   "source": [
    "# Each call of the function creates new local variables, and their lifetimes expire when the function returns to the caller.\n",
    "def test():\n",
    "    z=10\n",
    "    return z\n",
    "test()\n",
    "# print(z) this will throw error as scope of local variable exhausted after execution of function"
   ]
  },
  {
   "cell_type": "markdown",
   "id": "eef41afd",
   "metadata": {},
   "source": [
    "7. What is the concept of a return value? Is it possible to have a return value in an expression?"
   ]
  },
  {
   "cell_type": "code",
   "execution_count": 16,
   "id": "803ddac1",
   "metadata": {},
   "outputs": [
    {
     "data": {
      "text/plain": [
       "30"
      ]
     },
     "execution_count": 16,
     "metadata": {},
     "output_type": "execute_result"
    }
   ],
   "source": [
    "# A return is a value that a function returns to the calling script or function when it completes its task. \n",
    "# A return value can be any one of the four variable types: handle, integer, object, or string.\n",
    "# it is not possible to have a return in expression \n",
    "def test():\n",
    "    x=10\n",
    "    y=20\n",
    "    return x+y\n",
    "test()#here the return value will be int,object or string not a expression"
   ]
  },
  {
   "cell_type": "markdown",
   "id": "85c90aa4",
   "metadata": {},
   "source": [
    "8. If a function does not have a return statement, what is the return value of a call to that function?"
   ]
  },
  {
   "cell_type": "code",
   "execution_count": 27,
   "id": "4836ea5c",
   "metadata": {},
   "outputs": [
    {
     "name": "stdout",
     "output_type": "stream",
     "text": [
      "this function will return None\n",
      "1 2\n",
      "this function will return the value of x and y but the type of x and y will be <class 'NoneType'>\n"
     ]
    }
   ],
   "source": [
    "# if a function does not have a return statement \n",
    "# it will not return anything and if we call function and \n",
    "# use print function it will return the value in nonetype\n",
    "def test():\n",
    "    x=1\n",
    "    y=2\n",
    "print(f\"this function will return {test()}\")\n",
    "def test1():\n",
    "    x=1\n",
    "    y=2\n",
    "    print(x,y)\n",
    "print(f\"this function will return the value of x and y but the type of x and y will be {type(test1())}\")"
   ]
  },
  {
   "cell_type": "markdown",
   "id": "bcf266a8",
   "metadata": {},
   "source": [
    "9. How do you make a function variable refer to the global variable?"
   ]
  },
  {
   "cell_type": "code",
   "execution_count": 30,
   "id": "32c274bd",
   "metadata": {},
   "outputs": [
    {
     "name": "stdout",
     "output_type": "stream",
     "text": [
      "10\n",
      "10\n"
     ]
    }
   ],
   "source": [
    "def test():\n",
    "    global a\n",
    "    a=10\n",
    "    return a\n",
    "print(test())\n",
    "print(a)"
   ]
  },
  {
   "cell_type": "markdown",
   "id": "36b7ce2b",
   "metadata": {},
   "source": [
    "10. What is the data type of None?"
   ]
  },
  {
   "cell_type": "code",
   "execution_count": 33,
   "id": "fa52f538",
   "metadata": {},
   "outputs": [
    {
     "name": "stdout",
     "output_type": "stream",
     "text": [
      "<class 'NoneType'>\n"
     ]
    }
   ],
   "source": [
    "# when we use print function instead of return it will return NoneType  \n",
    "print(type(None))"
   ]
  },
  {
   "cell_type": "markdown",
   "id": "f6b88a1d",
   "metadata": {},
   "source": [
    "11. What does the sentence import are all your pets namederic do?"
   ]
  },
  {
   "cell_type": "markdown",
   "id": "c35b192c",
   "metadata": {},
   "source": [
    "#from pets import *"
   ]
  },
  {
   "cell_type": "markdown",
   "id": "dcb74ce8",
   "metadata": {},
   "source": [
    "12. If you had a bacon() feature in a spam module, what would you call it after importing spam?"
   ]
  },
  {
   "cell_type": "markdown",
   "id": "a70bd597",
   "metadata": {},
   "source": [
    "if i had a bacon() function in a spam module i would import the spam module first and after spam module call bacon()\n",
    "\n",
    "spam.bacon()"
   ]
  },
  {
   "cell_type": "markdown",
   "id": "fb7b2810",
   "metadata": {},
   "source": [
    "13. What can you do to save a programme from crashing if it encounters an error?"
   ]
  },
  {
   "cell_type": "code",
   "execution_count": 1,
   "id": "7f087429",
   "metadata": {},
   "outputs": [],
   "source": [
    "# To save a program from crashing if it encounter an runtime error we use 'try' and 'except' clause"
   ]
  },
  {
   "cell_type": "markdown",
   "id": "57b82169",
   "metadata": {},
   "source": [
    "14. What is the purpose of the try clause? What is the purpose of the except clause?"
   ]
  },
  {
   "cell_type": "code",
   "execution_count": 2,
   "id": "683bb2f7",
   "metadata": {},
   "outputs": [
    {
     "name": "stdout",
     "output_type": "stream",
     "text": [
      "something went worng\n"
     ]
    }
   ],
   "source": [
    "# To save a program from crashing in runtime error, \n",
    "# we use try and except clause , \n",
    "# when we get error in try block and except block help us to send the message of crashing the function\n",
    "\n",
    "def test(x,y):\n",
    "    try:\n",
    "        z=x/y\n",
    "        return z\n",
    "    except:\n",
    "        print(\"something went worng\")\n",
    "test(10,0)"
   ]
  },
  {
   "cell_type": "code",
   "execution_count": null,
   "id": "dbce8d01",
   "metadata": {},
   "outputs": [],
   "source": []
  }
 ],
 "metadata": {
  "kernelspec": {
   "display_name": "Python 3 (ipykernel)",
   "language": "python",
   "name": "python3"
  },
  "language_info": {
   "codemirror_mode": {
    "name": "ipython",
    "version": 3
   },
   "file_extension": ".py",
   "mimetype": "text/x-python",
   "name": "python",
   "nbconvert_exporter": "python",
   "pygments_lexer": "ipython3",
   "version": "3.9.12"
  }
 },
 "nbformat": 4,
 "nbformat_minor": 5
}

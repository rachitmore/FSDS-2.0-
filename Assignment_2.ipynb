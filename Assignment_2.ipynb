{
 "cells": [
  {
   "cell_type": "markdown",
   "id": "dc12541a",
   "metadata": {},
   "source": [
    "1.What are the two values of the Boolean data type? How do you write them?\n",
    "\n",
    "2. What are the three different types of Boolean operators?\n",
    "\n",
    "3. Make a list of each Boolean operator's truth tables (i.e. every possible combination of Boolean values for the operator and what it evaluate ).\n",
    "\n",
    "4. What are the values of the following expressions?\n",
    "\n",
    "(5 > 4) and (3 == 5)\n",
    "not (5 > 4)\n",
    "(5 > 4) or (3 == 5)\n",
    "not ((5 > 4) or (3 == 5))\n",
    "(True and True) and (True == False)\n",
    "(not False) or (not True)\n",
    "\n",
    "5. What are the six comparison operators?\n",
    "\n",
    "6. How do you tell the difference between the equal to and assignment operators?Describe a condition and when you would use one.\n",
    "\n",
    "7. Identify the three blocks in this code:\n",
    "\n",
    "spam = 0\n",
    "if spam == 10:\n",
    "print('eggs')\n",
    "if spam > 5:\n",
    "print('bacon')\n",
    "else:\n",
    "print('ham')\n",
    "print('spam')\n",
    "print('spam')\n",
    "\n",
    "8. Write code that prints Hello if 1 is stored in spam, prints Howdy if 2 is stored in spam, and prints Greetings! if anything else is stored in spam.\n",
    "\n",
    "\n",
    "9.If your programme is stuck in an endless loop, what keys you’ll press?\n",
    "\n",
    "10. How can you tell the difference between break and continue?\n",
    "\n",
    "11. In a for loop, what is the difference between range(10), range(0, 10), and range(0, 10, 1)?\n",
    "\n",
    "12. Write a short program that prints the numbers 1 to 10 using a for loop. Then write an equivalent program that prints the numbers 1 to 10 using a while loop.\n",
    "\n",
    "13. If you had a function named bacon() inside a module named spam, how would you call it after importing spam?"
   ]
  },
  {
   "cell_type": "code",
   "execution_count": 1,
   "id": "920766a2",
   "metadata": {},
   "outputs": [],
   "source": [
    "# 1.What are the two values of the Boolean data type? How do you write them?\n",
    "#  True and False"
   ]
  },
  {
   "cell_type": "code",
   "execution_count": 2,
   "id": "2f83232f",
   "metadata": {},
   "outputs": [],
   "source": [
    "#2. What are the three different types of Boolean operators?\n",
    "#  and,or,not"
   ]
  },
  {
   "cell_type": "code",
   "execution_count": 3,
   "id": "bbbcf239",
   "metadata": {},
   "outputs": [
    {
     "name": "stdout",
     "output_type": "stream",
     "text": [
      "True and True =  True\n",
      "True and False =  False\n",
      "False and True =  False\n",
      "False and False =  False\n",
      "\n",
      "\n",
      "True or True =  True\n",
      "True or False =  True\n",
      "False or True =  True\n",
      "False or False =  False\n",
      "\n",
      "\n",
      "not True =  False\n",
      "not False =  True\n"
     ]
    }
   ],
   "source": [
    "#3. Make a list of each Boolean operator's truth tables (i.e. every possible combination of Boolean values for the operator and what it evaluate ).\n",
    "print(\"True and True = \",  True and True)\n",
    "print(\"True and False = \", True and False)\n",
    "print(\"False and True = \", False and True)\n",
    "print(\"False and False = \",False and False)\n",
    "print(\"\\n\")\n",
    "print(\"True or True = \",True or True)\n",
    "print(\"True or False = \",True or False)\n",
    "print(\"False or True = \",False or True)\n",
    "print(\"False or False = \",False or False)\n",
    "print(\"\\n\")\n",
    "print(\"not True = \", not True)\n",
    "print(\"not False = \", not False)"
   ]
  },
  {
   "cell_type": "code",
   "execution_count": 4,
   "id": "1fc80c4e",
   "metadata": {},
   "outputs": [
    {
     "name": "stdout",
     "output_type": "stream",
     "text": [
      "False\n",
      "False\n",
      "True\n",
      "False\n",
      "False\n",
      "True\n"
     ]
    }
   ],
   "source": [
    "# 4. What are the values of the following expressions?\n",
    "print((5 > 4) and (3 == 5))\n",
    "print(not (5 > 4))\n",
    "print((5 > 4) or (3 == 5))\n",
    "print(not ((5 > 4) or (3 == 5)))\n",
    "print((True and True) and (True == False))\n",
    "print((not False) or (not True))\n"
   ]
  },
  {
   "cell_type": "code",
   "execution_count": 5,
   "id": "07201b19",
   "metadata": {},
   "outputs": [],
   "source": [
    "# 5. What are the six comparison operators?\n",
    "#     ==\n",
    "#     !+\n",
    "#     <\n",
    "#     >\n",
    "#     <=\n",
    "#     >="
   ]
  },
  {
   "cell_type": "code",
   "execution_count": 6,
   "id": "7121afc6",
   "metadata": {},
   "outputs": [
    {
     "name": "stdout",
     "output_type": "stream",
     "text": [
      "False\n",
      "True\n",
      "False\n",
      "True\n"
     ]
    }
   ],
   "source": [
    "# 6. How do you tell the difference between the equal to and assignment operators?\n",
    "# Describe a condition and when you would use one.\n",
    "\n",
    "# Assignment Operators are used to assign a value to a property or variable.\n",
    "# Comparison Operators are used to perform comparisons.\n",
    "\n",
    "x = 10 # here = is an assignment operator because = is assignment value of 10 to x\n",
    "print(x==15) #here == is a comparision operator because it is comparing two values 10 to 15\n",
    "print(x!=15) #here != is a comparision operator because it is comparing two values 10 to 15\n",
    "print(x>=15) #here >= is a comparision operator because it is comparing two values 10 to 15\n",
    "print(x<=15) #here <= is a comparision operator because it is comparing two values 10 to 15  "
   ]
  },
  {
   "cell_type": "code",
   "execution_count": 7,
   "id": "6cae8278",
   "metadata": {},
   "outputs": [
    {
     "name": "stdout",
     "output_type": "stream",
     "text": [
      "ham\n",
      "spam\n",
      "spam\n"
     ]
    }
   ],
   "source": [
    "# 7. Identify the three blocks in this code:\n",
    "spam = 0\n",
    "if spam == 10:\n",
    "    print('eggs')\n",
    "elif spam > 5:\n",
    "    print('bacon')\n",
    "else:\n",
    "    print('ham')\n",
    "print('spam')\n",
    "print('spam')"
   ]
  },
  {
   "cell_type": "code",
   "execution_count": 8,
   "id": "c345c319",
   "metadata": {},
   "outputs": [
    {
     "name": "stdout",
     "output_type": "stream",
     "text": [
      "Hello\n"
     ]
    }
   ],
   "source": [
    "# 8. Write code that prints Hello if 1 is stored in spam, \n",
    "# prints Howdy if 2 is stored in spam, and prints Greetings! if anything else is stored in spam.\n",
    "spam=(1,2,3)\n",
    "if 1 in spam:\n",
    "    print(\"Hello\")\n",
    "elif 2 in spam:\n",
    "    print(\"Howdy\")\n",
    "else:\n",
    "    print(\"Greeting\")\n"
   ]
  },
  {
   "cell_type": "code",
   "execution_count": 9,
   "id": "7952864b",
   "metadata": {},
   "outputs": [
    {
     "name": "stdout",
     "output_type": "stream",
     "text": [
      "This loop will stuck in an endless loop therefore we have used 'break' key\n"
     ]
    }
   ],
   "source": [
    "# 9.If your programme is stuck in an endless loop, what keys you’ll press?\n",
    "x=0\n",
    "while True:\n",
    "    print(\"This loop will stuck in an endless loop therefore we have used 'break' key\")\n",
    "    break\n",
    "    "
   ]
  },
  {
   "cell_type": "code",
   "execution_count": 10,
   "id": "121215fd",
   "metadata": {},
   "outputs": [
    {
     "name": "stdout",
     "output_type": "stream",
     "text": [
      "l1= [0, 1, 2, 3, 4] \n",
      "l2 [0, 1, 2, 3, 4, 6, 7, 8, 9]\n"
     ]
    }
   ],
   "source": [
    "#10. How can you tell the difference between break and continue?\n",
    "\n",
    "#break stop the loop whereas continue uses to jump directly to the next iteration\n",
    "\n",
    "x=5\n",
    "l1=[]\n",
    "l2=[]\n",
    "for i in range(10):# here is the code to iter 5 time and append item in list and break the loop \n",
    "    if i==x:\n",
    "        break\n",
    "    l1.append(i)\n",
    "for i in range(10):# here is the code to all iteration and append item in list except iteration 5 \n",
    "    if i==x:\n",
    "        continue\n",
    "    l2.append(i)\n",
    "print(\"l1=\",l1,\"\\nl2\",l2)"
   ]
  },
  {
   "cell_type": "code",
   "execution_count": 11,
   "id": "9711cd4c",
   "metadata": {},
   "outputs": [
    {
     "data": {
      "text/plain": [
       "True"
      ]
     },
     "execution_count": 11,
     "metadata": {},
     "output_type": "execute_result"
    }
   ],
   "source": [
    "# 11. In a for loop, what is the difference between range(10), range(0, 10), and range(0, 10, 1)?\n",
    "\n",
    "#initially we keep the value of x,y,z same and check the value changing after iteration\n",
    "x=0\n",
    "for i in range(10):\n",
    "    x+=i\n",
    "y=0\n",
    "for i in range(0, 10):\n",
    "    y+=i\n",
    "z=0\n",
    "for i in range(0, 10, 1):\n",
    "    z+=i\n",
    "x==y==z # comparing all three values\n",
    "#hence after the iteration there is no difference in range(10), range(0, 10), and range(0, 10, 1) in a for loop.  "
   ]
  },
  {
   "cell_type": "code",
   "execution_count": 12,
   "id": "3228772d",
   "metadata": {},
   "outputs": [
    {
     "name": "stdout",
     "output_type": "stream",
     "text": [
      "1\n",
      "2\n",
      "3\n",
      "4\n",
      "5\n",
      "6\n",
      "7\n",
      "8\n",
      "9\n",
      "10\n",
      "1\n",
      "2\n",
      "3\n",
      "4\n",
      "5\n",
      "6\n",
      "7\n",
      "8\n",
      "9\n",
      "10\n"
     ]
    }
   ],
   "source": [
    "# 12. Write a short program that prints the numbers 1 to 10 using a for loop.\n",
    "# Then write an equivalent program that prints the numbers 1 to 10 using a while loop.\n",
    "for i in range(1,11):\n",
    "    print(i)\n",
    "x=0\n",
    "while x<10:\n",
    "    x+=1\n",
    "    print(x)"
   ]
  },
  {
   "cell_type": "code",
   "execution_count": 13,
   "id": "54fda430",
   "metadata": {},
   "outputs": [],
   "source": [
    "#13. If you had a function named bacon() inside a module named spam, how would you call it after importing spam?\n",
    "# from spam import bacon"
   ]
  }
 ],
 "metadata": {
  "kernelspec": {
   "display_name": "Python 3 (ipykernel)",
   "language": "python",
   "name": "python3"
  },
  "language_info": {
   "codemirror_mode": {
    "name": "ipython",
    "version": 3
   },
   "file_extension": ".py",
   "mimetype": "text/x-python",
   "name": "python",
   "nbconvert_exporter": "python",
   "pygments_lexer": "ipython3",
   "version": "3.9.12"
  }
 },
 "nbformat": 4,
 "nbformat_minor": 5
}

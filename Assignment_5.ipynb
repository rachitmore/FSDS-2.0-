{
 "cells": [
  {
   "cell_type": "markdown",
   "id": "23f7cb2a",
   "metadata": {},
   "source": [
    "1. What does an empty dictionary's code look like?\n",
    "\n",
    "2. What is the value of a dictionary value with the key 'foo' and the value 42?\n",
    "\n",
    "3. What is the most significant distinction between a dictionary and a list?\n",
    "\n",
    "4. What happens if you try to access spam['foo'] if spam is {'bar': 100}?\n",
    "\n",
    "5. If a dictionary is stored in spam, what is the difference between the expressions 'cat' in spam and 'cat' in spam.keys()?\n",
    "\n",
    "6. If a dictionary is stored in spam, what is the difference between the expressions 'cat' in spam and 'cat' in spam.values()?\n",
    "\n",
    "7. What is a shortcut for the following code?\n",
    "if 'color' not in spam:\n",
    "spam['color'] = 'black'\n",
    "\n",
    "8. How do you \"pretty print\" dictionary values using which module and function?\n"
   ]
  },
  {
   "cell_type": "markdown",
   "id": "f7cb00d6",
   "metadata": {},
   "source": [
    "1. What does an empty dictionary's code look like?"
   ]
  },
  {
   "cell_type": "code",
   "execution_count": 2,
   "id": "61842fca",
   "metadata": {},
   "outputs": [
    {
     "data": {
      "text/plain": [
       "dict"
      ]
     },
     "execution_count": 2,
     "metadata": {},
     "output_type": "execute_result"
    }
   ],
   "source": [
    "d={}\n",
    "type(d)"
   ]
  },
  {
   "cell_type": "markdown",
   "id": "90665753",
   "metadata": {},
   "source": [
    "2. What is the value of a dictionary value with the key 'foo' and the value 42?"
   ]
  },
  {
   "cell_type": "code",
   "execution_count": 3,
   "id": "90e51c59",
   "metadata": {},
   "outputs": [
    {
     "data": {
      "text/plain": [
       "42"
      ]
     },
     "execution_count": 3,
     "metadata": {},
     "output_type": "execute_result"
    }
   ],
   "source": [
    "d={\"foo\":42}\n",
    "d[\"foo\"]"
   ]
  },
  {
   "cell_type": "markdown",
   "id": "7f4fe17a",
   "metadata": {},
   "source": [
    "3. What is the most significant distinction between a dictionary and a list?"
   ]
  },
  {
   "cell_type": "code",
   "execution_count": 4,
   "id": "c5d2a929",
   "metadata": {},
   "outputs": [],
   "source": [
    "# list contain can contain different data type where dict can also contain different data type\n",
    "# but it should be a key and vbalue pair\n",
    "l=[1,2,3,4,5]\n",
    "d={1:\"Python\",2:\"MySQL\",3:\"MongoDB\",4:\"AI\",5:\"Big Data\"}"
   ]
  },
  {
   "cell_type": "markdown",
   "id": "e2b25272",
   "metadata": {},
   "source": [
    "4. What happens if you try to access spam['foo'] if spam is {'bar': 100}?"
   ]
  },
  {
   "cell_type": "code",
   "execution_count": 11,
   "id": "96f63fc1",
   "metadata": {},
   "outputs": [],
   "source": [
    "it will throw the key error\n",
    "spam = {\"bar\":100}\n",
    "spam['foo']"
   ]
  },
  {
   "cell_type": "markdown",
   "id": "432c450f",
   "metadata": {},
   "source": [
    "5. If a dictionary is stored in spam, what is the difference between the expressions 'cat' in spam and 'cat' in spam.keys()?"
   ]
  },
  {
   "cell_type": "code",
   "execution_count": 12,
   "id": "40e1c5f7",
   "metadata": {},
   "outputs": [
    {
     "name": "stdout",
     "output_type": "stream",
     "text": [
      "True\n",
      "True\n"
     ]
    }
   ],
   "source": [
    "spam={\"cat\":100}\n",
    "if \"cat\" in spam:\n",
    "    print(True)\n",
    "if \"cat\" in spam.keys():\n",
    "    print(True)\n",
    "\n",
    "# here spam.keys() return keys of the dictionary spam\n",
    "# there no difference if we call \"cat\" in spam and \"cat\" in spam.keys()\n",
    "# because dict first search key and either way is same "
   ]
  },
  {
   "cell_type": "markdown",
   "id": "cd07c918",
   "metadata": {},
   "source": [
    "6. If a dictionary is stored in spam, what is the difference between the expressions 'cat' in spam and 'cat' in spam.values()?"
   ]
  },
  {
   "cell_type": "code",
   "execution_count": 13,
   "id": "fe71a0d1",
   "metadata": {},
   "outputs": [
    {
     "name": "stdout",
     "output_type": "stream",
     "text": [
      "True\n",
      "Both the statement is different dict_values([100]) will return values of spam which associated with keys\n"
     ]
    }
   ],
   "source": [
    "spam={\"cat\":100}\n",
    "if \"cat\" in spam:\n",
    "    print(True)\n",
    "if \"cat\" in spam.values():\n",
    "    print(True)\n",
    "else:\n",
    "    print(f\"Both the statement is different {spam.values()} will return values of spam which associated with keys\")\n",
    "\n",
    "\n",
    "# there difference if we call \"cat\" in spam and \"cat\" in spam.values()\n",
    "# because firstly it is searching from keys and another statement it is searching from values "
   ]
  },
  {
   "cell_type": "markdown",
   "id": "eb6da3f5",
   "metadata": {},
   "source": [
    "7. What is a shortcut for the following code?\n",
    "if 'color' not in spam:\n",
    "spam['color'] = 'black'"
   ]
  },
  {
   "cell_type": "code",
   "execution_count": 14,
   "id": "f78ae561",
   "metadata": {},
   "outputs": [
    {
     "name": "stdout",
     "output_type": "stream",
     "text": [
      "{'cat': 100, 'color': 'black'}\n"
     ]
    }
   ],
   "source": [
    "#short cut\n",
    "# not is  equivalent to ! special character\n",
    "if \"color\" != spam:\n",
    "    spam[\"color\"]=\"black\"\n",
    "print(spam)"
   ]
  },
  {
   "cell_type": "markdown",
   "id": "e627e05f",
   "metadata": {},
   "source": [
    "8. How do you \"pretty print\" dictionary values using which module and function?"
   ]
  },
  {
   "cell_type": "code",
   "execution_count": 15,
   "id": "af1be31a",
   "metadata": {},
   "outputs": [
    {
     "name": "stdout",
     "output_type": "stream",
     "text": [
      "Here is normal way of printing any statement \n",
      " [{'Name': 'Rachit', 'Age': '24', 'City': 'Bhopal'}, {'Name': 'More', 'Age': '25', 'City': 'Indore'}]\n",
      "\n",
      "Here is normal way of printing any statement \n",
      "\n",
      "[{'Age': '24', 'City': 'Bhopal', 'Name': 'Rachit'},\n",
      " {'Age': '25', 'City': 'Indore', 'Name': 'More'}]\n"
     ]
    }
   ],
   "source": [
    "#here is the way\n",
    "import pprint as p\n",
    "\n",
    "dct_arr = [\n",
    "  {'Name': 'Rachit', 'Age': '24', 'City': 'Bhopal'},\n",
    "  {'Name': 'More', 'Age': '25', 'City': 'Indore'},\n",
    "]\n",
    "print(f'Here is normal way of printing any statement \\n {dct_arr}\\n')\n",
    "print(f'Here is normal way of printing any statement \\n')\n",
    "p.pprint(dct_arr)"
   ]
  },
  {
   "cell_type": "code",
   "execution_count": null,
   "id": "aa1a6dab",
   "metadata": {},
   "outputs": [],
   "source": []
  }
 ],
 "metadata": {
  "kernelspec": {
   "display_name": "Python 3 (ipykernel)",
   "language": "python",
   "name": "python3"
  },
  "language_info": {
   "codemirror_mode": {
    "name": "ipython",
    "version": 3
   },
   "file_extension": ".py",
   "mimetype": "text/x-python",
   "name": "python",
   "nbconvert_exporter": "python",
   "pygments_lexer": "ipython3",
   "version": "3.9.12"
  }
 },
 "nbformat": 4,
 "nbformat_minor": 5
}
